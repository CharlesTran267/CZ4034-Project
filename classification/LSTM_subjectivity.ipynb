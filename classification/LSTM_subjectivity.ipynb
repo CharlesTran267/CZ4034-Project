{
  "cells": [
    {
      "cell_type": "code",
      "execution_count": 1,
      "metadata": {
        "colab": {
          "base_uri": "https://localhost:8080/"
        },
        "id": "Osga0B0DiNsT",
        "outputId": "ba46e88b-9467-447f-a8b8-2cfab3992b22"
      },
      "outputs": [
        {
          "name": "stderr",
          "output_type": "stream",
          "text": [
            "[nltk_data] Downloading collection 'all'\n",
            "[nltk_data]    | \n",
            "[nltk_data]    | Downloading package abc to /root/nltk_data...\n",
            "[nltk_data]    |   Package abc is already up-to-date!\n",
            "[nltk_data]    | Downloading package alpino to /root/nltk_data...\n",
            "[nltk_data]    |   Package alpino is already up-to-date!\n",
            "[nltk_data]    | Downloading package averaged_perceptron_tagger to\n",
            "[nltk_data]    |     /root/nltk_data...\n",
            "[nltk_data]    |   Package averaged_perceptron_tagger is already up-\n",
            "[nltk_data]    |       to-date!\n",
            "[nltk_data]    | Downloading package averaged_perceptron_tagger_ru to\n",
            "[nltk_data]    |     /root/nltk_data...\n",
            "[nltk_data]    |   Package averaged_perceptron_tagger_ru is already\n",
            "[nltk_data]    |       up-to-date!\n",
            "[nltk_data]    | Downloading package basque_grammars to\n",
            "[nltk_data]    |     /root/nltk_data...\n",
            "[nltk_data]    |   Package basque_grammars is already up-to-date!\n",
            "[nltk_data]    | Downloading package bcp47 to /root/nltk_data...\n",
            "[nltk_data]    |   Package bcp47 is already up-to-date!\n",
            "[nltk_data]    | Downloading package biocreative_ppi to\n",
            "[nltk_data]    |     /root/nltk_data...\n",
            "[nltk_data]    |   Package biocreative_ppi is already up-to-date!\n",
            "[nltk_data]    | Downloading package bllip_wsj_no_aux to\n",
            "[nltk_data]    |     /root/nltk_data...\n",
            "[nltk_data]    |   Package bllip_wsj_no_aux is already up-to-date!\n",
            "[nltk_data]    | Downloading package book_grammars to\n",
            "[nltk_data]    |     /root/nltk_data...\n",
            "[nltk_data]    |   Package book_grammars is already up-to-date!\n",
            "[nltk_data]    | Downloading package brown to /root/nltk_data...\n",
            "[nltk_data]    |   Package brown is already up-to-date!\n",
            "[nltk_data]    | Downloading package brown_tei to /root/nltk_data...\n",
            "[nltk_data]    |   Package brown_tei is already up-to-date!\n",
            "[nltk_data]    | Downloading package cess_cat to /root/nltk_data...\n",
            "[nltk_data]    |   Package cess_cat is already up-to-date!\n",
            "[nltk_data]    | Downloading package cess_esp to /root/nltk_data...\n",
            "[nltk_data]    |   Package cess_esp is already up-to-date!\n",
            "[nltk_data]    | Downloading package chat80 to /root/nltk_data...\n",
            "[nltk_data]    |   Package chat80 is already up-to-date!\n",
            "[nltk_data]    | Downloading package city_database to\n",
            "[nltk_data]    |     /root/nltk_data...\n",
            "[nltk_data]    |   Package city_database is already up-to-date!\n",
            "[nltk_data]    | Downloading package cmudict to /root/nltk_data...\n",
            "[nltk_data]    |   Package cmudict is already up-to-date!\n",
            "[nltk_data]    | Downloading package comparative_sentences to\n",
            "[nltk_data]    |     /root/nltk_data...\n",
            "[nltk_data]    |   Package comparative_sentences is already up-to-\n",
            "[nltk_data]    |       date!\n",
            "[nltk_data]    | Downloading package comtrans to /root/nltk_data...\n",
            "[nltk_data]    |   Package comtrans is already up-to-date!\n",
            "[nltk_data]    | Downloading package conll2000 to /root/nltk_data...\n",
            "[nltk_data]    |   Package conll2000 is already up-to-date!\n",
            "[nltk_data]    | Downloading package conll2002 to /root/nltk_data...\n",
            "[nltk_data]    |   Package conll2002 is already up-to-date!\n",
            "[nltk_data]    | Downloading package conll2007 to /root/nltk_data...\n",
            "[nltk_data]    |   Package conll2007 is already up-to-date!\n",
            "[nltk_data]    | Downloading package crubadan to /root/nltk_data...\n",
            "[nltk_data]    |   Package crubadan is already up-to-date!\n",
            "[nltk_data]    | Downloading package dependency_treebank to\n",
            "[nltk_data]    |     /root/nltk_data...\n",
            "[nltk_data]    |   Package dependency_treebank is already up-to-date!\n",
            "[nltk_data]    | Downloading package dolch to /root/nltk_data...\n",
            "[nltk_data]    |   Package dolch is already up-to-date!\n",
            "[nltk_data]    | Downloading package europarl_raw to\n",
            "[nltk_data]    |     /root/nltk_data...\n",
            "[nltk_data]    |   Package europarl_raw is already up-to-date!\n",
            "[nltk_data]    | Downloading package extended_omw to\n",
            "[nltk_data]    |     /root/nltk_data...\n",
            "[nltk_data]    |   Package extended_omw is already up-to-date!\n",
            "[nltk_data]    | Downloading package floresta to /root/nltk_data...\n",
            "[nltk_data]    |   Package floresta is already up-to-date!\n",
            "[nltk_data]    | Downloading package framenet_v15 to\n",
            "[nltk_data]    |     /root/nltk_data...\n",
            "[nltk_data]    |   Package framenet_v15 is already up-to-date!\n",
            "[nltk_data]    | Downloading package framenet_v17 to\n",
            "[nltk_data]    |     /root/nltk_data...\n",
            "[nltk_data]    |   Package framenet_v17 is already up-to-date!\n",
            "[nltk_data]    | Downloading package gazetteers to /root/nltk_data...\n",
            "[nltk_data]    |   Package gazetteers is already up-to-date!\n",
            "[nltk_data]    | Downloading package genesis to /root/nltk_data...\n",
            "[nltk_data]    |   Package genesis is already up-to-date!\n",
            "[nltk_data]    | Downloading package gutenberg to /root/nltk_data...\n",
            "[nltk_data]    |   Package gutenberg is already up-to-date!\n",
            "[nltk_data]    | Downloading package ieer to /root/nltk_data...\n",
            "[nltk_data]    |   Package ieer is already up-to-date!\n",
            "[nltk_data]    | Downloading package inaugural to /root/nltk_data...\n",
            "[nltk_data]    |   Package inaugural is already up-to-date!\n",
            "[nltk_data]    | Downloading package indian to /root/nltk_data...\n",
            "[nltk_data]    |   Package indian is already up-to-date!\n",
            "[nltk_data]    | Downloading package jeita to /root/nltk_data...\n",
            "[nltk_data]    |   Package jeita is already up-to-date!\n",
            "[nltk_data]    | Downloading package kimmo to /root/nltk_data...\n",
            "[nltk_data]    |   Package kimmo is already up-to-date!\n",
            "[nltk_data]    | Downloading package knbc to /root/nltk_data...\n",
            "[nltk_data]    |   Package knbc is already up-to-date!\n",
            "[nltk_data]    | Downloading package large_grammars to\n",
            "[nltk_data]    |     /root/nltk_data...\n",
            "[nltk_data]    |   Package large_grammars is already up-to-date!\n",
            "[nltk_data]    | Downloading package lin_thesaurus to\n",
            "[nltk_data]    |     /root/nltk_data...\n",
            "[nltk_data]    |   Package lin_thesaurus is already up-to-date!\n",
            "[nltk_data]    | Downloading package mac_morpho to /root/nltk_data...\n",
            "[nltk_data]    |   Package mac_morpho is already up-to-date!\n",
            "[nltk_data]    | Downloading package machado to /root/nltk_data...\n",
            "[nltk_data]    |   Package machado is already up-to-date!\n",
            "[nltk_data]    | Downloading package masc_tagged to /root/nltk_data...\n",
            "[nltk_data]    |   Package masc_tagged is already up-to-date!\n",
            "[nltk_data]    | Downloading package maxent_ne_chunker to\n",
            "[nltk_data]    |     /root/nltk_data...\n",
            "[nltk_data]    |   Package maxent_ne_chunker is already up-to-date!\n",
            "[nltk_data]    | Downloading package maxent_treebank_pos_tagger to\n",
            "[nltk_data]    |     /root/nltk_data...\n",
            "[nltk_data]    |   Package maxent_treebank_pos_tagger is already up-\n",
            "[nltk_data]    |       to-date!\n",
            "[nltk_data]    | Downloading package moses_sample to\n",
            "[nltk_data]    |     /root/nltk_data...\n",
            "[nltk_data]    |   Package moses_sample is already up-to-date!\n",
            "[nltk_data]    | Downloading package movie_reviews to\n",
            "[nltk_data]    |     /root/nltk_data...\n",
            "[nltk_data]    |   Package movie_reviews is already up-to-date!\n",
            "[nltk_data]    | Downloading package mte_teip5 to /root/nltk_data...\n",
            "[nltk_data]    |   Package mte_teip5 is already up-to-date!\n",
            "[nltk_data]    | Downloading package mwa_ppdb to /root/nltk_data...\n",
            "[nltk_data]    |   Package mwa_ppdb is already up-to-date!\n",
            "[nltk_data]    | Downloading package names to /root/nltk_data...\n",
            "[nltk_data]    |   Package names is already up-to-date!\n",
            "[nltk_data]    | Downloading package nombank.1.0 to /root/nltk_data...\n",
            "[nltk_data]    |   Package nombank.1.0 is already up-to-date!\n",
            "[nltk_data]    | Downloading package nonbreaking_prefixes to\n",
            "[nltk_data]    |     /root/nltk_data...\n",
            "[nltk_data]    |   Package nonbreaking_prefixes is already up-to-date!\n",
            "[nltk_data]    | Downloading package nps_chat to /root/nltk_data...\n",
            "[nltk_data]    |   Package nps_chat is already up-to-date!\n",
            "[nltk_data]    | Downloading package omw to /root/nltk_data...\n",
            "[nltk_data]    |   Package omw is already up-to-date!\n",
            "[nltk_data]    | Downloading package omw-1.4 to /root/nltk_data...\n",
            "[nltk_data]    |   Package omw-1.4 is already up-to-date!\n",
            "[nltk_data]    | Downloading package opinion_lexicon to\n",
            "[nltk_data]    |     /root/nltk_data...\n",
            "[nltk_data]    |   Package opinion_lexicon is already up-to-date!\n",
            "[nltk_data]    | Downloading package panlex_swadesh to\n",
            "[nltk_data]    |     /root/nltk_data...\n",
            "[nltk_data]    |   Package panlex_swadesh is already up-to-date!\n",
            "[nltk_data]    | Downloading package paradigms to /root/nltk_data...\n",
            "[nltk_data]    |   Package paradigms is already up-to-date!\n",
            "[nltk_data]    | Downloading package pe08 to /root/nltk_data...\n",
            "[nltk_data]    |   Package pe08 is already up-to-date!\n",
            "[nltk_data]    | Downloading package perluniprops to\n",
            "[nltk_data]    |     /root/nltk_data...\n",
            "[nltk_data]    |   Package perluniprops is already up-to-date!\n",
            "[nltk_data]    | Downloading package pil to /root/nltk_data...\n",
            "[nltk_data]    |   Package pil is already up-to-date!\n",
            "[nltk_data]    | Downloading package pl196x to /root/nltk_data...\n",
            "[nltk_data]    |   Package pl196x is already up-to-date!\n",
            "[nltk_data]    | Downloading package porter_test to /root/nltk_data...\n",
            "[nltk_data]    |   Package porter_test is already up-to-date!\n",
            "[nltk_data]    | Downloading package ppattach to /root/nltk_data...\n",
            "[nltk_data]    |   Package ppattach is already up-to-date!\n",
            "[nltk_data]    | Downloading package problem_reports to\n",
            "[nltk_data]    |     /root/nltk_data...\n",
            "[nltk_data]    |   Package problem_reports is already up-to-date!\n",
            "[nltk_data]    | Downloading package product_reviews_1 to\n",
            "[nltk_data]    |     /root/nltk_data...\n",
            "[nltk_data]    |   Package product_reviews_1 is already up-to-date!\n",
            "[nltk_data]    | Downloading package product_reviews_2 to\n",
            "[nltk_data]    |     /root/nltk_data...\n",
            "[nltk_data]    |   Package product_reviews_2 is already up-to-date!\n",
            "[nltk_data]    | Downloading package propbank to /root/nltk_data...\n",
            "[nltk_data]    |   Package propbank is already up-to-date!\n",
            "[nltk_data]    | Downloading package pros_cons to /root/nltk_data...\n",
            "[nltk_data]    |   Package pros_cons is already up-to-date!\n",
            "[nltk_data]    | Downloading package ptb to /root/nltk_data...\n",
            "[nltk_data]    |   Package ptb is already up-to-date!\n",
            "[nltk_data]    | Downloading package punkt to /root/nltk_data...\n",
            "[nltk_data]    |   Package punkt is already up-to-date!\n",
            "[nltk_data]    | Downloading package qc to /root/nltk_data...\n",
            "[nltk_data]    |   Package qc is already up-to-date!\n",
            "[nltk_data]    | Downloading package reuters to /root/nltk_data...\n",
            "[nltk_data]    |   Package reuters is already up-to-date!\n",
            "[nltk_data]    | Downloading package rslp to /root/nltk_data...\n",
            "[nltk_data]    |   Package rslp is already up-to-date!\n",
            "[nltk_data]    | Downloading package rte to /root/nltk_data...\n",
            "[nltk_data]    |   Package rte is already up-to-date!\n",
            "[nltk_data]    | Downloading package sample_grammars to\n",
            "[nltk_data]    |     /root/nltk_data...\n",
            "[nltk_data]    |   Package sample_grammars is already up-to-date!\n",
            "[nltk_data]    | Downloading package semcor to /root/nltk_data...\n",
            "[nltk_data]    |   Package semcor is already up-to-date!\n",
            "[nltk_data]    | Downloading package senseval to /root/nltk_data...\n",
            "[nltk_data]    |   Package senseval is already up-to-date!\n",
            "[nltk_data]    | Downloading package sentence_polarity to\n",
            "[nltk_data]    |     /root/nltk_data...\n",
            "[nltk_data]    |   Package sentence_polarity is already up-to-date!\n",
            "[nltk_data]    | Downloading package sentiwordnet to\n",
            "[nltk_data]    |     /root/nltk_data...\n",
            "[nltk_data]    |   Package sentiwordnet is already up-to-date!\n",
            "[nltk_data]    | Downloading package shakespeare to /root/nltk_data...\n",
            "[nltk_data]    |   Package shakespeare is already up-to-date!\n",
            "[nltk_data]    | Downloading package sinica_treebank to\n",
            "[nltk_data]    |     /root/nltk_data...\n",
            "[nltk_data]    |   Package sinica_treebank is already up-to-date!\n",
            "[nltk_data]    | Downloading package smultron to /root/nltk_data...\n",
            "[nltk_data]    |   Package smultron is already up-to-date!\n",
            "[nltk_data]    | Downloading package snowball_data to\n",
            "[nltk_data]    |     /root/nltk_data...\n",
            "[nltk_data]    |   Package snowball_data is already up-to-date!\n",
            "[nltk_data]    | Downloading package spanish_grammars to\n",
            "[nltk_data]    |     /root/nltk_data...\n",
            "[nltk_data]    |   Package spanish_grammars is already up-to-date!\n",
            "[nltk_data]    | Downloading package state_union to /root/nltk_data...\n",
            "[nltk_data]    |   Package state_union is already up-to-date!\n",
            "[nltk_data]    | Downloading package stopwords to /root/nltk_data...\n",
            "[nltk_data]    |   Package stopwords is already up-to-date!\n",
            "[nltk_data]    | Downloading package subjectivity to\n",
            "[nltk_data]    |     /root/nltk_data...\n",
            "[nltk_data]    |   Package subjectivity is already up-to-date!\n",
            "[nltk_data]    | Downloading package swadesh to /root/nltk_data...\n",
            "[nltk_data]    |   Package swadesh is already up-to-date!\n",
            "[nltk_data]    | Downloading package switchboard to /root/nltk_data...\n",
            "[nltk_data]    |   Package switchboard is already up-to-date!\n",
            "[nltk_data]    | Downloading package tagsets to /root/nltk_data...\n",
            "[nltk_data]    |   Package tagsets is already up-to-date!\n",
            "[nltk_data]    | Downloading package timit to /root/nltk_data...\n",
            "[nltk_data]    |   Package timit is already up-to-date!\n",
            "[nltk_data]    | Downloading package toolbox to /root/nltk_data...\n",
            "[nltk_data]    |   Package toolbox is already up-to-date!\n",
            "[nltk_data]    | Downloading package treebank to /root/nltk_data...\n",
            "[nltk_data]    |   Package treebank is already up-to-date!\n",
            "[nltk_data]    | Downloading package twitter_samples to\n",
            "[nltk_data]    |     /root/nltk_data...\n",
            "[nltk_data]    |   Package twitter_samples is already up-to-date!\n",
            "[nltk_data]    | Downloading package udhr to /root/nltk_data...\n",
            "[nltk_data]    |   Package udhr is already up-to-date!\n",
            "[nltk_data]    | Downloading package udhr2 to /root/nltk_data...\n",
            "[nltk_data]    |   Package udhr2 is already up-to-date!\n",
            "[nltk_data]    | Downloading package unicode_samples to\n",
            "[nltk_data]    |     /root/nltk_data...\n",
            "[nltk_data]    |   Package unicode_samples is already up-to-date!\n",
            "[nltk_data]    | Downloading package universal_tagset to\n",
            "[nltk_data]    |     /root/nltk_data...\n",
            "[nltk_data]    |   Package universal_tagset is already up-to-date!\n",
            "[nltk_data]    | Downloading package universal_treebanks_v20 to\n",
            "[nltk_data]    |     /root/nltk_data...\n",
            "[nltk_data]    |   Package universal_treebanks_v20 is already up-to-\n",
            "[nltk_data]    |       date!\n",
            "[nltk_data]    | Downloading package vader_lexicon to\n",
            "[nltk_data]    |     /root/nltk_data...\n",
            "[nltk_data]    |   Package vader_lexicon is already up-to-date!\n",
            "[nltk_data]    | Downloading package verbnet to /root/nltk_data...\n",
            "[nltk_data]    |   Package verbnet is already up-to-date!\n",
            "[nltk_data]    | Downloading package verbnet3 to /root/nltk_data...\n",
            "[nltk_data]    |   Package verbnet3 is already up-to-date!\n",
            "[nltk_data]    | Downloading package webtext to /root/nltk_data...\n",
            "[nltk_data]    |   Package webtext is already up-to-date!\n",
            "[nltk_data]    | Downloading package wmt15_eval to /root/nltk_data...\n",
            "[nltk_data]    |   Package wmt15_eval is already up-to-date!\n",
            "[nltk_data]    | Downloading package word2vec_sample to\n",
            "[nltk_data]    |     /root/nltk_data...\n",
            "[nltk_data]    |   Package word2vec_sample is already up-to-date!\n",
            "[nltk_data]    | Downloading package wordnet to /root/nltk_data...\n",
            "[nltk_data]    |   Package wordnet is already up-to-date!\n",
            "[nltk_data]    | Downloading package wordnet2021 to /root/nltk_data...\n",
            "[nltk_data]    |   Package wordnet2021 is already up-to-date!\n",
            "[nltk_data]    | Downloading package wordnet2022 to /root/nltk_data...\n",
            "[nltk_data]    |   Package wordnet2022 is already up-to-date!\n",
            "[nltk_data]    | Downloading package wordnet31 to /root/nltk_data...\n",
            "[nltk_data]    |   Package wordnet31 is already up-to-date!\n",
            "[nltk_data]    | Downloading package wordnet_ic to /root/nltk_data...\n",
            "[nltk_data]    |   Package wordnet_ic is already up-to-date!\n",
            "[nltk_data]    | Downloading package words to /root/nltk_data...\n",
            "[nltk_data]    |   Package words is already up-to-date!\n",
            "[nltk_data]    | Downloading package ycoe to /root/nltk_data...\n",
            "[nltk_data]    |   Package ycoe is already up-to-date!\n",
            "[nltk_data]    | \n",
            "[nltk_data]  Done downloading collection all\n",
            "[nltk_data] Downloading package stopwords to /root/nltk_data...\n",
            "[nltk_data]   Package stopwords is already up-to-date!\n",
            "[nltk_data] Downloading package punkt to /root/nltk_data...\n",
            "[nltk_data]   Package punkt is already up-to-date!\n"
          ]
        },
        {
          "data": {
            "text/plain": [
              "True"
            ]
          },
          "execution_count": 1,
          "metadata": {},
          "output_type": "execute_result"
        }
      ],
      "source": [
        "import pandas as pd\n",
        "import numpy as np\n",
        "from nltk.corpus import wordnet as wn\n",
        "from nltk.tokenize import word_tokenize\n",
        "import nltk\n",
        "from nltk.wsd import lesk\n",
        "nltk.download('all')\n",
        "from nltk.corpus import stopwords\n",
        "from nltk.tokenize import word_tokenize\n",
        "nltk.download('stopwords')\n",
        "nltk.download('punkt')\n",
        "from tensorflow.keras.callbacks import EarlyStopping\n",
        "from nltk.stem import WordNetLemmatizer\n",
        "from imblearn.over_sampling import RandomOverSampler\n",
        "import tensorflow as tf\n",
        "import keras\n",
        "from keras import layers\n",
        "from keras.models import Sequential\n",
        "rom keras.losses import BinaryCrossentropy\n",
        "from keras.optimizers import Adam\n",
        "from keras.metrics import AUC\n",
        "from keras.callbacks import ModelCheckpoint\n",
        "from keras.models import load_model\n",
        "import keras_tuner as kt\n",
        "from sklearn.metrics import classification_report\n",
        "from kerastuner import HyperParameters as hp"
      ]
    },
    {
      "cell_type": "code",
      "execution_count": 2,
      "metadata": {
        "colab": {
          "base_uri": "https://localhost:8080/",
          "height": 424
        },
        "id": "ExeoefuhiNsU",
        "outputId": "baee0aa8-d393-42b9-ec80-5766a6cacadf"
      },
      "outputs": [
        {
          "data": {
            "application/vnd.google.colaboratory.intrinsic+json": {
              "summary": "{\n  \"name\": \"data\",\n  \"rows\": 2683,\n  \"fields\": [\n    {\n      \"column\": \"Brand\",\n      \"properties\": {\n        \"dtype\": \"category\",\n        \"num_unique_values\": 273,\n        \"samples\": [\n          \"Gucci,Ralph Lauren,Tommy Hilfiger\",\n          \"Nike,LV,Adidas,YSL\",\n          \"LV,Patagonia\"\n        ],\n        \"semantic_type\": \"\",\n        \"description\": \"\"\n      }\n    },\n    {\n      \"column\": \"Search Term\",\n      \"properties\": {\n        \"dtype\": \"category\",\n        \"num_unique_values\": 147,\n        \"samples\": [\n          \"Lululemon\",\n          \"haul,comparison\",\n          \"Tory Burch\"\n        ],\n        \"semantic_type\": \"\",\n        \"description\": \"\"\n      }\n    },\n    {\n      \"column\": \"Comment\",\n      \"properties\": {\n        \"dtype\": \"string\",\n        \"num_unique_values\": 2656,\n        \"samples\": [\n          \"sockeye means wild, so i get a nontrivial price... skinless boneless means good processing. but damn... making the patagonia bag-in-box look affordable\",\n          \"Eastman teamed up Patagonia to recycle 8,000 pounds of pre and post-consumer clothing waste using its molecular recycling technology.https://buff.ly/3wuHbhn   #recycling#clothingwaste#JSDaily\",\n          \"[WTC] Actual Basketball Hey guys, are there proper reps of (deflated) basketballs that actually play properly?   Preferably some that are sub 20 Euro to just use and not waste too much money on something like an LV or something ball.;;u/lindless u/repknowledge\"\n        ],\n        \"semantic_type\": \"\",\n        \"description\": \"\"\n      }\n    },\n    {\n      \"column\": \"Source\",\n      \"properties\": {\n        \"dtype\": \"category\",\n        \"num_unique_values\": 162,\n        \"samples\": [\n          \"https://www.youtube.com//watch?v=gL0DirMwMcE&pp=ygUXRm9yZXZlciAyMSBzdXN0YWluYWJsZSA%3D\",\n          \"https://www.youtube.com//watch?v=NLsODXRiMVY&pp=ygUUVmVyc2FjZSBzdXN0YWluYWJsZSA%3D\",\n          \"https://www.youtube.com//watch?v=5eob0zftmJU&pp=ygURVmVyc2FjZSB3b3J0aCBpdCA%3D\"\n        ],\n        \"semantic_type\": \"\",\n        \"description\": \"\"\n      }\n    },\n    {\n      \"column\": \"Metadata\",\n      \"properties\": {\n        \"dtype\": \"string\",\n        \"num_unique_values\": 2387,\n        \"samples\": [\n          \"{'likes': '0', 'date': \\\"'2024-01-29 05:15:23'\\\", 'comment_id': 7329384465720607493}\",\n          \"{'Name': 'Gege', 'Handle': '@gegexym', 'Timestamp': '2022-03-02T15:02:51.000Z', 'Verified': False, 'Comments': 1, 'Retweets': 2, 'Likes': 1, 'Analytics': '0', 'Tags': '[]', 'Mentions': '[]', 'Emojis': '[]', 'Profile Image': 'https://pbs.twimg.com/profile_images/1753196834405699584/31I_16OR_normal.jpg', 'Tweet Link': 'https://twitter.com/gegexym/status/1499037523531685889', 'Tweet ID': 'tweet_id:1499037523531685889', 'Tweeter ID': 'user_id:377653704', 'Following': '605', 'Followers': '859', 'Source': 'Twitter'}\",\n          \"{'upvote': '1', 'timestamp': '2023-07-13'}\"\n        ],\n        \"semantic_type\": \"\",\n        \"description\": \"\"\n      }\n    },\n    {\n      \"column\": \"Subjectivity\",\n      \"properties\": {\n        \"dtype\": \"number\",\n        \"std\": 0.4934151205952087,\n        \"min\": 0.0,\n        \"max\": 1.0,\n        \"num_unique_values\": 2,\n        \"samples\": [\n          1.0,\n          0.0\n        ],\n        \"semantic_type\": \"\",\n        \"description\": \"\"\n      }\n    },\n    {\n      \"column\": \"Polarity\",\n      \"properties\": {\n        \"dtype\": \"number\",\n        \"std\": 0.4963576813611859,\n        \"min\": 0.0,\n        \"max\": 1.0,\n        \"num_unique_values\": 2,\n        \"samples\": [\n          1.0,\n          0.0\n        ],\n        \"semantic_type\": \"\",\n        \"description\": \"\"\n      }\n    }\n  ]\n}",
              "type": "dataframe",
              "variable_name": "data"
            },
            "text/html": [
              "\n",
              "  <div id=\"df-c6c74488-08fc-4c4a-8a6e-8ea5f98f55ea\" class=\"colab-df-container\">\n",
              "    <div>\n",
              "<style scoped>\n",
              "    .dataframe tbody tr th:only-of-type {\n",
              "        vertical-align: middle;\n",
              "    }\n",
              "\n",
              "    .dataframe tbody tr th {\n",
              "        vertical-align: top;\n",
              "    }\n",
              "\n",
              "    .dataframe thead th {\n",
              "        text-align: right;\n",
              "    }\n",
              "</style>\n",
              "<table border=\"1\" class=\"dataframe\">\n",
              "  <thead>\n",
              "    <tr style=\"text-align: right;\">\n",
              "      <th></th>\n",
              "      <th>Brand</th>\n",
              "      <th>Search Term</th>\n",
              "      <th>Comment</th>\n",
              "      <th>Source</th>\n",
              "      <th>Metadata</th>\n",
              "      <th>Subjectivity</th>\n",
              "      <th>Polarity</th>\n",
              "    </tr>\n",
              "  </thead>\n",
              "  <tbody>\n",
              "    <tr>\n",
              "      <th>0</th>\n",
              "      <td>Nike</td>\n",
              "      <td>waste</td>\n",
              "      <td>Designing products with sustainability in mind...</td>\n",
              "      <td>Twitter</td>\n",
              "      <td>{'Name': 'Angla Sicurella', 'Handle': '@AnglaS...</td>\n",
              "      <td>0.0</td>\n",
              "      <td>NaN</td>\n",
              "    </tr>\n",
              "    <tr>\n",
              "      <th>1</th>\n",
              "      <td>Nike</td>\n",
              "      <td>waste</td>\n",
              "      <td>Kirby would have been a waste of time - why ev...</td>\n",
              "      <td>Twitter</td>\n",
              "      <td>{'Name': 'LisaKingWheless', 'Handle': '@Lisapc...</td>\n",
              "      <td>1.0</td>\n",
              "      <td>0.0</td>\n",
              "    </tr>\n",
              "    <tr>\n",
              "      <th>2</th>\n",
              "      <td>Nike</td>\n",
              "      <td>waste</td>\n",
              "      <td>I wouldn’t spend another dollar at that theate...</td>\n",
              "      <td>Twitter</td>\n",
              "      <td>{'Name': 'Sheila McSheilerton', 'Handle': '@sh...</td>\n",
              "      <td>1.0</td>\n",
              "      <td>0.0</td>\n",
              "    </tr>\n",
              "    <tr>\n",
              "      <th>3</th>\n",
              "      <td>Nike</td>\n",
              "      <td>waste</td>\n",
              "      <td>Call them back and tell them they’re lying bec...</td>\n",
              "      <td>Twitter</td>\n",
              "      <td>{'Name': 'UncleChrissy', 'Handle': '@uncle_chr...</td>\n",
              "      <td>1.0</td>\n",
              "      <td>0.0</td>\n",
              "    </tr>\n",
              "    <tr>\n",
              "      <th>4</th>\n",
              "      <td>Nike</td>\n",
              "      <td>waste</td>\n",
              "      <td>I’m really sitting here going in on myself..li...</td>\n",
              "      <td>Twitter</td>\n",
              "      <td>{'Name': 'Jade ☥', 'Handle': '@jmerarity', 'Ti...</td>\n",
              "      <td>1.0</td>\n",
              "      <td>1.0</td>\n",
              "    </tr>\n",
              "    <tr>\n",
              "      <th>...</th>\n",
              "      <td>...</td>\n",
              "      <td>...</td>\n",
              "      <td>...</td>\n",
              "      <td>...</td>\n",
              "      <td>...</td>\n",
              "      <td>...</td>\n",
              "      <td>...</td>\n",
              "    </tr>\n",
              "    <tr>\n",
              "      <th>2678</th>\n",
              "      <td>Louis Vuitton</td>\n",
              "      <td>Louis Vuitton</td>\n",
              "      <td>❤️❤️❤️</td>\n",
              "      <td>Instagram</td>\n",
              "      <td>{'Likes_and_timestamp': '0 likes on 2024-01-17...</td>\n",
              "      <td>1.0</td>\n",
              "      <td>1.0</td>\n",
              "    </tr>\n",
              "    <tr>\n",
              "      <th>2679</th>\n",
              "      <td>Tory Burch</td>\n",
              "      <td>Tory Burch</td>\n",
              "      <td>The pale pink in the 6th look is EVERYTHINGGGG...</td>\n",
              "      <td>Instagram</td>\n",
              "      <td>{'Likes_and_timestamp': '0 likes on 2023-09-16...</td>\n",
              "      <td>1.0</td>\n",
              "      <td>1.0</td>\n",
              "    </tr>\n",
              "    <tr>\n",
              "      <th>2680</th>\n",
              "      <td>Yeezy</td>\n",
              "      <td>Yeezy</td>\n",
              "      <td>He said it himself this isn't the real Kanye s...</td>\n",
              "      <td>Instagram</td>\n",
              "      <td>{'Likes_and_timestamp': '0 likes on 2024-02-27...</td>\n",
              "      <td>0.0</td>\n",
              "      <td>NaN</td>\n",
              "    </tr>\n",
              "    <tr>\n",
              "      <th>2681</th>\n",
              "      <td>Gucci</td>\n",
              "      <td>Gucci</td>\n",
              "      <td>😍😍😍</td>\n",
              "      <td>Instagram</td>\n",
              "      <td>{'Likes_and_timestamp': '3 likes on 2023-09-23...</td>\n",
              "      <td>1.0</td>\n",
              "      <td>1.0</td>\n",
              "    </tr>\n",
              "    <tr>\n",
              "      <th>2682</th>\n",
              "      <td>Chanel, Miu Miu, Versace</td>\n",
              "      <td>Chanel, Miu Miu, Versace</td>\n",
              "      <td>Anyone here who can guide me</td>\n",
              "      <td>Instagram</td>\n",
              "      <td>{'Likes_and_timestamp': '2 likes on 2024-03-10...</td>\n",
              "      <td>0.0</td>\n",
              "      <td>NaN</td>\n",
              "    </tr>\n",
              "  </tbody>\n",
              "</table>\n",
              "<p>2683 rows × 7 columns</p>\n",
              "</div>\n",
              "    <div class=\"colab-df-buttons\">\n",
              "\n",
              "  <div class=\"colab-df-container\">\n",
              "    <button class=\"colab-df-convert\" onclick=\"convertToInteractive('df-c6c74488-08fc-4c4a-8a6e-8ea5f98f55ea')\"\n",
              "            title=\"Convert this dataframe to an interactive table.\"\n",
              "            style=\"display:none;\">\n",
              "\n",
              "  <svg xmlns=\"http://www.w3.org/2000/svg\" height=\"24px\" viewBox=\"0 -960 960 960\">\n",
              "    <path d=\"M120-120v-720h720v720H120Zm60-500h600v-160H180v160Zm220 220h160v-160H400v160Zm0 220h160v-160H400v160ZM180-400h160v-160H180v160Zm440 0h160v-160H620v160ZM180-180h160v-160H180v160Zm440 0h160v-160H620v160Z\"/>\n",
              "  </svg>\n",
              "    </button>\n",
              "\n",
              "  <style>\n",
              "    .colab-df-container {\n",
              "      display:flex;\n",
              "      gap: 12px;\n",
              "    }\n",
              "\n",
              "    .colab-df-convert {\n",
              "      background-color: #E8F0FE;\n",
              "      border: none;\n",
              "      border-radius: 50%;\n",
              "      cursor: pointer;\n",
              "      display: none;\n",
              "      fill: #1967D2;\n",
              "      height: 32px;\n",
              "      padding: 0 0 0 0;\n",
              "      width: 32px;\n",
              "    }\n",
              "\n",
              "    .colab-df-convert:hover {\n",
              "      background-color: #E2EBFA;\n",
              "      box-shadow: 0px 1px 2px rgba(60, 64, 67, 0.3), 0px 1px 3px 1px rgba(60, 64, 67, 0.15);\n",
              "      fill: #174EA6;\n",
              "    }\n",
              "\n",
              "    .colab-df-buttons div {\n",
              "      margin-bottom: 4px;\n",
              "    }\n",
              "\n",
              "    [theme=dark] .colab-df-convert {\n",
              "      background-color: #3B4455;\n",
              "      fill: #D2E3FC;\n",
              "    }\n",
              "\n",
              "    [theme=dark] .colab-df-convert:hover {\n",
              "      background-color: #434B5C;\n",
              "      box-shadow: 0px 1px 3px 1px rgba(0, 0, 0, 0.15);\n",
              "      filter: drop-shadow(0px 1px 2px rgba(0, 0, 0, 0.3));\n",
              "      fill: #FFFFFF;\n",
              "    }\n",
              "  </style>\n",
              "\n",
              "    <script>\n",
              "      const buttonEl =\n",
              "        document.querySelector('#df-c6c74488-08fc-4c4a-8a6e-8ea5f98f55ea button.colab-df-convert');\n",
              "      buttonEl.style.display =\n",
              "        google.colab.kernel.accessAllowed ? 'block' : 'none';\n",
              "\n",
              "      async function convertToInteractive(key) {\n",
              "        const element = document.querySelector('#df-c6c74488-08fc-4c4a-8a6e-8ea5f98f55ea');\n",
              "        const dataTable =\n",
              "          await google.colab.kernel.invokeFunction('convertToInteractive',\n",
              "                                                    [key], {});\n",
              "        if (!dataTable) return;\n",
              "\n",
              "        const docLinkHtml = 'Like what you see? Visit the ' +\n",
              "          '<a target=\"_blank\" href=https://colab.research.google.com/notebooks/data_table.ipynb>data table notebook</a>'\n",
              "          + ' to learn more about interactive tables.';\n",
              "        element.innerHTML = '';\n",
              "        dataTable['output_type'] = 'display_data';\n",
              "        await google.colab.output.renderOutput(dataTable, element);\n",
              "        const docLink = document.createElement('div');\n",
              "        docLink.innerHTML = docLinkHtml;\n",
              "        element.appendChild(docLink);\n",
              "      }\n",
              "    </script>\n",
              "  </div>\n",
              "\n",
              "\n",
              "<div id=\"df-d9f7c60e-c67e-4219-9fe7-37231318896f\">\n",
              "  <button class=\"colab-df-quickchart\" onclick=\"quickchart('df-d9f7c60e-c67e-4219-9fe7-37231318896f')\"\n",
              "            title=\"Suggest charts\"\n",
              "            style=\"display:none;\">\n",
              "\n",
              "<svg xmlns=\"http://www.w3.org/2000/svg\" height=\"24px\"viewBox=\"0 0 24 24\"\n",
              "     width=\"24px\">\n",
              "    <g>\n",
              "        <path d=\"M19 3H5c-1.1 0-2 .9-2 2v14c0 1.1.9 2 2 2h14c1.1 0 2-.9 2-2V5c0-1.1-.9-2-2-2zM9 17H7v-7h2v7zm4 0h-2V7h2v10zm4 0h-2v-4h2v4z\"/>\n",
              "    </g>\n",
              "</svg>\n",
              "  </button>\n",
              "\n",
              "<style>\n",
              "  .colab-df-quickchart {\n",
              "      --bg-color: #E8F0FE;\n",
              "      --fill-color: #1967D2;\n",
              "      --hover-bg-color: #E2EBFA;\n",
              "      --hover-fill-color: #174EA6;\n",
              "      --disabled-fill-color: #AAA;\n",
              "      --disabled-bg-color: #DDD;\n",
              "  }\n",
              "\n",
              "  [theme=dark] .colab-df-quickchart {\n",
              "      --bg-color: #3B4455;\n",
              "      --fill-color: #D2E3FC;\n",
              "      --hover-bg-color: #434B5C;\n",
              "      --hover-fill-color: #FFFFFF;\n",
              "      --disabled-bg-color: #3B4455;\n",
              "      --disabled-fill-color: #666;\n",
              "  }\n",
              "\n",
              "  .colab-df-quickchart {\n",
              "    background-color: var(--bg-color);\n",
              "    border: none;\n",
              "    border-radius: 50%;\n",
              "    cursor: pointer;\n",
              "    display: none;\n",
              "    fill: var(--fill-color);\n",
              "    height: 32px;\n",
              "    padding: 0;\n",
              "    width: 32px;\n",
              "  }\n",
              "\n",
              "  .colab-df-quickchart:hover {\n",
              "    background-color: var(--hover-bg-color);\n",
              "    box-shadow: 0 1px 2px rgba(60, 64, 67, 0.3), 0 1px 3px 1px rgba(60, 64, 67, 0.15);\n",
              "    fill: var(--button-hover-fill-color);\n",
              "  }\n",
              "\n",
              "  .colab-df-quickchart-complete:disabled,\n",
              "  .colab-df-quickchart-complete:disabled:hover {\n",
              "    background-color: var(--disabled-bg-color);\n",
              "    fill: var(--disabled-fill-color);\n",
              "    box-shadow: none;\n",
              "  }\n",
              "\n",
              "  .colab-df-spinner {\n",
              "    border: 2px solid var(--fill-color);\n",
              "    border-color: transparent;\n",
              "    border-bottom-color: var(--fill-color);\n",
              "    animation:\n",
              "      spin 1s steps(1) infinite;\n",
              "  }\n",
              "\n",
              "  @keyframes spin {\n",
              "    0% {\n",
              "      border-color: transparent;\n",
              "      border-bottom-color: var(--fill-color);\n",
              "      border-left-color: var(--fill-color);\n",
              "    }\n",
              "    20% {\n",
              "      border-color: transparent;\n",
              "      border-left-color: var(--fill-color);\n",
              "      border-top-color: var(--fill-color);\n",
              "    }\n",
              "    30% {\n",
              "      border-color: transparent;\n",
              "      border-left-color: var(--fill-color);\n",
              "      border-top-color: var(--fill-color);\n",
              "      border-right-color: var(--fill-color);\n",
              "    }\n",
              "    40% {\n",
              "      border-color: transparent;\n",
              "      border-right-color: var(--fill-color);\n",
              "      border-top-color: var(--fill-color);\n",
              "    }\n",
              "    60% {\n",
              "      border-color: transparent;\n",
              "      border-right-color: var(--fill-color);\n",
              "    }\n",
              "    80% {\n",
              "      border-color: transparent;\n",
              "      border-right-color: var(--fill-color);\n",
              "      border-bottom-color: var(--fill-color);\n",
              "    }\n",
              "    90% {\n",
              "      border-color: transparent;\n",
              "      border-bottom-color: var(--fill-color);\n",
              "    }\n",
              "  }\n",
              "</style>\n",
              "\n",
              "  <script>\n",
              "    async function quickchart(key) {\n",
              "      const quickchartButtonEl =\n",
              "        document.querySelector('#' + key + ' button');\n",
              "      quickchartButtonEl.disabled = true;  // To prevent multiple clicks.\n",
              "      quickchartButtonEl.classList.add('colab-df-spinner');\n",
              "      try {\n",
              "        const charts = await google.colab.kernel.invokeFunction(\n",
              "            'suggestCharts', [key], {});\n",
              "      } catch (error) {\n",
              "        console.error('Error during call to suggestCharts:', error);\n",
              "      }\n",
              "      quickchartButtonEl.classList.remove('colab-df-spinner');\n",
              "      quickchartButtonEl.classList.add('colab-df-quickchart-complete');\n",
              "    }\n",
              "    (() => {\n",
              "      let quickchartButtonEl =\n",
              "        document.querySelector('#df-d9f7c60e-c67e-4219-9fe7-37231318896f button');\n",
              "      quickchartButtonEl.style.display =\n",
              "        google.colab.kernel.accessAllowed ? 'block' : 'none';\n",
              "    })();\n",
              "  </script>\n",
              "</div>\n",
              "\n",
              "  <div id=\"id_d9907842-5366-431f-8c25-3b2f6ddb1c94\">\n",
              "    <style>\n",
              "      .colab-df-generate {\n",
              "        background-color: #E8F0FE;\n",
              "        border: none;\n",
              "        border-radius: 50%;\n",
              "        cursor: pointer;\n",
              "        display: none;\n",
              "        fill: #1967D2;\n",
              "        height: 32px;\n",
              "        padding: 0 0 0 0;\n",
              "        width: 32px;\n",
              "      }\n",
              "\n",
              "      .colab-df-generate:hover {\n",
              "        background-color: #E2EBFA;\n",
              "        box-shadow: 0px 1px 2px rgba(60, 64, 67, 0.3), 0px 1px 3px 1px rgba(60, 64, 67, 0.15);\n",
              "        fill: #174EA6;\n",
              "      }\n",
              "\n",
              "      [theme=dark] .colab-df-generate {\n",
              "        background-color: #3B4455;\n",
              "        fill: #D2E3FC;\n",
              "      }\n",
              "\n",
              "      [theme=dark] .colab-df-generate:hover {\n",
              "        background-color: #434B5C;\n",
              "        box-shadow: 0px 1px 3px 1px rgba(0, 0, 0, 0.15);\n",
              "        filter: drop-shadow(0px 1px 2px rgba(0, 0, 0, 0.3));\n",
              "        fill: #FFFFFF;\n",
              "      }\n",
              "    </style>\n",
              "    <button class=\"colab-df-generate\" onclick=\"generateWithVariable('data')\"\n",
              "            title=\"Generate code using this dataframe.\"\n",
              "            style=\"display:none;\">\n",
              "\n",
              "  <svg xmlns=\"http://www.w3.org/2000/svg\" height=\"24px\"viewBox=\"0 0 24 24\"\n",
              "       width=\"24px\">\n",
              "    <path d=\"M7,19H8.4L18.45,9,17,7.55,7,17.6ZM5,21V16.75L18.45,3.32a2,2,0,0,1,2.83,0l1.4,1.43a1.91,1.91,0,0,1,.58,1.4,1.91,1.91,0,0,1-.58,1.4L9.25,21ZM18.45,9,17,7.55Zm-12,3A5.31,5.31,0,0,0,4.9,8.1,5.31,5.31,0,0,0,1,6.5,5.31,5.31,0,0,0,4.9,4.9,5.31,5.31,0,0,0,6.5,1,5.31,5.31,0,0,0,8.1,4.9,5.31,5.31,0,0,0,12,6.5,5.46,5.46,0,0,0,6.5,12Z\"/>\n",
              "  </svg>\n",
              "    </button>\n",
              "    <script>\n",
              "      (() => {\n",
              "      const buttonEl =\n",
              "        document.querySelector('#id_d9907842-5366-431f-8c25-3b2f6ddb1c94 button.colab-df-generate');\n",
              "      buttonEl.style.display =\n",
              "        google.colab.kernel.accessAllowed ? 'block' : 'none';\n",
              "\n",
              "      buttonEl.onclick = () => {\n",
              "        google.colab.notebook.generateWithVariable('data');\n",
              "      }\n",
              "      })();\n",
              "    </script>\n",
              "  </div>\n",
              "\n",
              "    </div>\n",
              "  </div>\n"
            ],
            "text/plain": [
              "                         Brand               Search Term  \\\n",
              "0                         Nike                     waste   \n",
              "1                         Nike                     waste   \n",
              "2                         Nike                     waste   \n",
              "3                         Nike                     waste   \n",
              "4                         Nike                     waste   \n",
              "...                        ...                       ...   \n",
              "2678             Louis Vuitton             Louis Vuitton   \n",
              "2679                Tory Burch                Tory Burch   \n",
              "2680                     Yeezy                     Yeezy   \n",
              "2681                     Gucci                     Gucci   \n",
              "2682  Chanel, Miu Miu, Versace  Chanel, Miu Miu, Versace   \n",
              "\n",
              "                                                Comment     Source  \\\n",
              "0     Designing products with sustainability in mind...    Twitter   \n",
              "1     Kirby would have been a waste of time - why ev...    Twitter   \n",
              "2     I wouldn’t spend another dollar at that theate...    Twitter   \n",
              "3     Call them back and tell them they’re lying bec...    Twitter   \n",
              "4     I’m really sitting here going in on myself..li...    Twitter   \n",
              "...                                                 ...        ...   \n",
              "2678                                             ❤️❤️❤️  Instagram   \n",
              "2679  The pale pink in the 6th look is EVERYTHINGGGG...  Instagram   \n",
              "2680  He said it himself this isn't the real Kanye s...  Instagram   \n",
              "2681                                                😍😍😍  Instagram   \n",
              "2682                       Anyone here who can guide me  Instagram   \n",
              "\n",
              "                                               Metadata  Subjectivity  \\\n",
              "0     {'Name': 'Angla Sicurella', 'Handle': '@AnglaS...           0.0   \n",
              "1     {'Name': 'LisaKingWheless', 'Handle': '@Lisapc...           1.0   \n",
              "2     {'Name': 'Sheila McSheilerton', 'Handle': '@sh...           1.0   \n",
              "3     {'Name': 'UncleChrissy', 'Handle': '@uncle_chr...           1.0   \n",
              "4     {'Name': 'Jade ☥', 'Handle': '@jmerarity', 'Ti...           1.0   \n",
              "...                                                 ...           ...   \n",
              "2678  {'Likes_and_timestamp': '0 likes on 2024-01-17...           1.0   \n",
              "2679  {'Likes_and_timestamp': '0 likes on 2023-09-16...           1.0   \n",
              "2680  {'Likes_and_timestamp': '0 likes on 2024-02-27...           0.0   \n",
              "2681  {'Likes_and_timestamp': '3 likes on 2023-09-23...           1.0   \n",
              "2682  {'Likes_and_timestamp': '2 likes on 2024-03-10...           0.0   \n",
              "\n",
              "      Polarity  \n",
              "0          NaN  \n",
              "1          0.0  \n",
              "2          0.0  \n",
              "3          0.0  \n",
              "4          1.0  \n",
              "...        ...  \n",
              "2678       1.0  \n",
              "2679       1.0  \n",
              "2680       NaN  \n",
              "2681       1.0  \n",
              "2682       NaN  \n",
              "\n",
              "[2683 rows x 7 columns]"
            ]
          },
          "execution_count": 2,
          "metadata": {},
          "output_type": "execute_result"
        }
      ],
      "source": [
        "data = pd.read_csv('incomplete_annotations_data.csv')\n",
        "data"
      ]
    },
    {
      "cell_type": "code",
      "execution_count": null,
      "metadata": {},
      "outputs": [
        {
          "name": "stdout",
          "output_type": "stream",
          "text": [
            "{\"ain't\": 'is not', \"aren't\": 'are not', \"can't\": 'cannot', \"can't've\": 'cannot have', \"'cause\": 'because', \"could've\": 'could have', \"couldn't\": 'could not', \"couldn't've\": 'could not have', \"didn't\": 'did not', \"doesn't\": 'does not', \"don't\": 'do not', \"hadn't\": 'had not', \"hadn't've\": 'had not have', \"hasn't\": 'has not', \"haven't\": 'have not', \"he'd\": 'he would', \"he'd've\": 'he would have', \"he'll\": 'he will', \"he'll've\": 'he he will have', \"he's\": 'he is', \"how'd\": 'how did', \"how'd'y\": 'how do you', \"how'll\": 'how will', \"how's\": 'how is', \"I'd\": 'I would', \"I'd've\": 'I would have', \"I'll\": 'I will', \"I'll've\": 'I will have', \"I'm\": 'I am', \"I've\": 'I have', \"i'd\": 'i would', \"i'd've\": 'i would have', \"i'll\": 'i will', \"i'll've\": 'i will have', \"i'm\": 'i am', \"i've\": 'i have', \"isn't\": 'is not', \"it'd\": 'it would', \"it'd've\": 'it would have', \"it'll\": 'it will', \"it'll've\": 'it will have', \"it's\": 'it is', \"let's\": 'let us', \"ma'am\": 'madam', \"mayn't\": 'may not', \"might've\": 'might have', \"mightn't\": 'might not', \"mightn't've\": 'might not have', \"must've\": 'must have', \"mustn't\": 'must not', \"mustn't've\": 'must not have', \"needn't\": 'need not', \"needn't've\": 'need not have', \"o'clock\": 'of the clock', \"oughtn't\": 'ought not', \"oughtn't've\": 'ought not have', \"shan't\": 'shall not', \"sha'n't\": 'shall not', \"shan't've\": 'shall not have', \"she'd\": 'she would', \"she'd've\": 'she would have', \"she'll\": 'she will', \"she'll've\": 'she will have', \"she's\": 'she is', \"should've\": 'should have', \"shouldn't\": 'should not', \"shouldn't've\": 'should not have', \"so've\": 'so have', \"so's\": 'so as', \"that'd\": 'that would', \"that'd've\": 'that would have', \"that's\": 'that is', \"there'd\": 'there would', \"there'd've\": 'there would have', \"there's\": 'there is', \"they'd\": 'they would', \"they'd've\": 'they would have', \"they'll\": 'they will', \"they'll've\": 'they will have', \"they're\": 'they are', \"they've\": 'they have', \"to've\": 'to have', \"wasn't\": 'was not', \"we'd\": 'we would', \"we'd've\": 'we would have', \"we'll\": 'we will', \"we'll've\": 'we will have', \"we're\": 'we are', \"we've\": 'we have', \"weren't\": 'were not', \"what'll\": 'what will', \"what'll've\": 'what will have', \"what're\": 'what are', \"what's\": 'what is', \"what've\": 'what have', \"when's\": 'when is', \"when've\": 'when have', \"where'd\": 'where did', \"where's\": 'where is', \"where've\": 'where have', \"who'll\": 'who will', \"who'll've\": 'who will have', \"who's\": 'who is', \"who've\": 'who have', \"why's\": 'why is', \"why've\": 'why have', \"will've\": 'will have', \"won't\": 'will not', \"won't've\": 'will not have', \"would've\": 'would have', \"wouldn't\": 'would not', \"wouldn't've\": 'would not have', \"y'all\": 'you all', \"y'all'd\": 'you all would', \"y'all'd've\": 'you all would have', \"y'all're\": 'you all are', \"y'all've\": 'you all have', \"you'd\": 'you would', \"you'd've\": 'you would have', \"you'll\": 'you will', \"you'll've\": 'you will have', \"you're\": 'you are', \"you've\": 'you have', '$': ' dollar ', '€': ' euro ', '4ao': 'for adults only', 'a.m': 'before midday', 'a3': 'anytime anywhere anyplace', 'aamof': 'as a matter of fact', 'acct': 'account', 'adih': 'another day in hell', 'afaic': 'as far as i am concerned', 'afaict': 'as far as i can tell', 'afaik': 'as far as i know', 'afair': 'as far as i remember', 'afk': 'away from keyboard', 'app': 'application', 'approx': 'approximately', 'apps': 'applications', 'asap': 'as soon as possible', 'asl': 'age, sex, location', 'atk': 'at the keyboard', 'ave.': 'avenue', 'aymm': 'are you my mother', 'ayor': 'at your own risk', 'b&b': 'bed and breakfast', 'b+b': 'bed and breakfast', 'b.c': 'before christ', 'b2b': 'business to business', 'b2c': 'business to customer', 'b4': 'before', 'b4n': 'bye for now', 'b@u': 'back at you', 'bae': 'before anyone else', 'bak': 'back at keyboard', 'bbbg': 'bye bye be good', 'bbc': 'british broadcasting corporation', 'bbias': 'be back in a second', 'bbl': 'be back later', 'bbs': 'be back soon', 'be4': 'before', 'bfn': 'bye for now', 'blvd': 'boulevard', 'bout': 'about', 'brb': 'be right back', 'bros': 'brothers', 'brt': 'be right there', 'bsaaw': 'big smile and a wink', 'btw': 'by the way', 'bwl': 'bursting with laughter', 'c/o': 'care of', 'cet': 'central european time', 'cf': 'compare', 'cia': 'central intelligence agency', 'csl': 'can not stop laughing', 'cu': 'see you', 'cul8r': 'see you later', 'cv': 'curriculum vitae', 'cwot': 'complete waste of time', 'cya': 'see you', 'cyt': 'see you tomorrow', 'dae': 'does anyone else', 'dbmib': 'do not bother me i am busy', 'diy': 'do it yourself', 'dm': 'direct message', 'dwh': 'during work hours', 'e123': 'easy as one two three', 'eet': 'eastern european time', 'eg': 'example', 'embm': 'early morning business meeting', 'encl': 'enclosed', 'encl.': 'enclosed', 'etc': 'and so on', 'faq': 'frequently asked questions', 'fawc': 'for anyone who cares', 'fb': 'facebook', 'fc': 'fingers crossed', 'fig': 'figure', 'fimh': 'forever in my heart', 'ft.': 'feet', 'ft': 'featuring', 'ftl': 'for the loss', 'ftw': 'for the win', 'fwiw': 'for what it is worth', 'fyi': 'for your information', 'g9': 'genius', 'gahoy': 'get a hold of yourself', 'gal': 'get a life', 'gcse': 'general certificate of secondary education', 'gfn': 'gone for now', 'gg': 'good game', 'gl': 'good luck', 'glhf': 'good luck have fun', 'gmt': 'greenwich mean time', 'gmta': 'great minds think alike', 'gn': 'good night', 'g.o.a.t': 'greatest of all time', 'goat': 'greatest of all time', 'goi': 'get over it', 'gps': 'global positioning system', 'gr8': 'great', 'gratz': 'congratulations', 'gyal': 'girl', 'h&c': 'hot and cold', 'hp': 'horsepower', 'hr': 'hour', 'hrh': 'his royal highness', 'ht': 'height', 'ibrb': 'i will be right back', 'ic': 'i see', 'icq': 'i seek you', 'icymi': 'in case you missed it', 'idc': 'i do not care', 'idgadf': 'i do not give a damn fuck', 'idgaf': 'i do not give a fuck', 'idk': 'i do not know', 'ie': 'that is', 'i.e': 'that is', 'ifyp': 'i feel your pain', 'IG': 'instagram', 'iirc': 'if i remember correctly', 'ilu': 'i love you', 'ily': 'i love you', 'imho': 'in my humble opinion', 'imo': 'in my opinion', 'imu': 'i miss you', 'iow': 'in other words', 'irl': 'in real life', 'j4f': 'just for fun', 'jic': 'just in case', 'jk': 'just kidding', 'jsyk': 'just so you know', 'l8r': 'later', 'lb': 'pound', 'lbs': 'pounds', 'ldr': 'long distance relationship', 'lmao': 'laugh my ass off', 'lmfao': 'laugh my fucking ass off', 'lol': 'laughing out loud', 'ltd': 'limited', 'ltns': 'long time no see', 'm8': 'mate', 'mf': 'motherfucker', 'mfs': 'motherfuckers', 'mfw': 'my face when', 'mofo': 'motherfucker', 'mph': 'miles per hour', 'mr': 'mister', 'mrw': 'my reaction when', 'ms': 'miss', 'mte': 'my thoughts exactly', 'nagi': 'not a good idea', 'nbc': 'national broadcasting company', 'nbd': 'not big deal', 'nfs': 'not for sale', 'ngl': 'not going to lie', 'nhs': 'national health service', 'nrn': 'no reply necessary', 'nsfl': 'not safe for life', 'nsfw': 'not safe for work', 'nth': 'nice to have', 'nvr': 'never', 'nyc': 'new york city', 'oc': 'original content', 'og': 'original', 'ohp': 'overhead projector', 'oic': 'oh i see', 'omdb': 'over my dead body', 'omg': 'oh my god', 'omw': 'on my way', 'p.a': 'per annum', 'p.m': 'after midday', 'pm': 'prime minister', 'poc': 'people of color', 'pov': 'point of view', 'pp': 'pages', 'ppl': 'people', 'prw': 'parents are watching', 'ps': 'postscript', 'pt': 'point', 'ptb': 'please text back', 'pto': 'please turn over', 'qpsa': 'what happens', 'ratchet': 'rude', 'rbtl': 'read between the lines', 'rlrt': 'real life retweet', 'rofl': 'rolling on the floor laughing', 'roflol': 'rolling on the floor laughing out loud', 'rotflmao': 'rolling on the floor laughing my ass off', 'rt': 'retweet', 'ruok': 'are you ok', 'sfw': 'safe for work', 'sk8': 'skate', 'smh': 'shake my head', 'sq': 'square', 'srsly': 'seriously', 'ssdd': 'same stuff different day', 'tbh': 'to be honest', 'tbs': 'tablespooful', 'tbsp': 'tablespooful', 'tfw': 'that feeling when', 'thks': 'thank you', 'tho': 'though', 'thx': 'thank you', 'tia': 'thanks in advance', 'til': 'today i learned', 'tl;dr': 'too long i did not read', 'tldr': 'too long i did not read', 'tmb': 'tweet me back', 'tntl': 'trying not to laugh', 'ttyl': 'talk to you later', 'u': 'you', 'u2': 'you too', 'u4e': 'yours for ever', 'utc': 'coordinated universal time', 'w/': 'with', 'w/o': 'without', 'w8': 'wait', 'wassup': 'what is up', 'wb': 'welcome back', 'wtf': 'what the fuck', 'wtg': 'way to go', 'wtpa': 'where the party at', 'wuf': 'where are you from', 'wuzup': 'what is up', 'wywh': 'wish you were here', 'yd': 'yard', 'ygtr': 'you got that right', 'ynk': 'you never know', 'zzz': 'sleeping bored and tired'}\n",
            "Requirement already satisfied: emoji in /usr/local/lib/python3.10/dist-packages (2.11.0)\n"
          ]
        },
        {
          "name": "stderr",
          "output_type": "stream",
          "text": [
            "[nltk_data] Downloading package stopwords to /root/nltk_data...\n",
            "[nltk_data]   Package stopwords is already up-to-date!\n",
            "[nltk_data] Downloading package punkt to /root/nltk_data...\n",
            "[nltk_data]   Package punkt is already up-to-date!\n"
          ]
        }
      ],
      "source": [
        "with open('abbreviations_list.pkl', 'rb') as file:\n",
        "    abbreviations = pickle.load(file)\n",
        "\n",
        "print(abbreviations)\n",
        "\n",
        "# Creating extra column for preprocessed text\n",
        "data['Preprocessed Comment'] = data['Comment']\n",
        "\n",
        "# Normalizing emojis\n",
        "!pip install emoji\n",
        "\n",
        "import emoji\n",
        "\n",
        "def demojize_with_delimiters(text):\n",
        "    return emoji.demojize(text, delimiters=(\" \", \" \"))\n",
        "\n",
        "data['Preprocessed Comment'] = data['Preprocessed Comment'].apply(lambda x: demojize_with_delimiters(x) if isinstance(x, str) else x)\n",
        "\n",
        "# Lowercasing\n",
        "\n",
        "data['Preprocessed Comment'] = data['Preprocessed Comment'].apply(lambda x: x.lower() if isinstance(x, str) else x)\n",
        "\n",
        "# Removing stopwords\n",
        "nltk.download('stopwords')\n",
        "nltk.download('punkt')\n",
        "\n",
        "def remove_stopwords(text):\n",
        "    # Ensure the input is a string\n",
        "    if isinstance(text, str):\n",
        "        # Tokenize the text into words\n",
        "        words = nltk.word_tokenize(text)\n",
        "\n",
        "        # Get the list of stopwords\n",
        "        stop_words = set(stopwords.words('english'))\n",
        "\n",
        "        # Remove stopwords from the tokenized words\n",
        "        filtered_words = [word for word in words if word.lower() not in stop_words]\n",
        "\n",
        "        # Join the filtered words back into a single string\n",
        "        filtered_text = ' '.join(filtered_words)\n",
        "\n",
        "        return filtered_text\n",
        "    else:\n",
        "        return text\n",
        "\n",
        "data['Preprocessed Comment'] = data['Preprocessed Comment'].apply(remove_stopwords)\n",
        "\n",
        "# Function to manually tokenize text including punctuations\n",
        "def custom_tokenize(text):\n",
        "    # Regex pattern to match words (including contractions) and separate punctuation\n",
        "    tokens = re.findall(r\"[\\w']+|[.,!?;]\", text)\n",
        "    return tokens\n",
        "\n",
        "# Normalize slangs and abbreviations\n",
        "def normalize_slangs_abbreviations_custom(text, slang_dict):\n",
        "    if isinstance(text, str):\n",
        "        tokens = custom_tokenize(text)\n",
        "        normalized_tokens = [slang_dict.get(token.lower(), token) for token in tokens]\n",
        "        # Reconstruct the text\n",
        "        normalized_text = ' '.join(normalized_tokens).replace(\" ,\", \",\").replace(\" .\", \".\").replace(\" !\", \"!\").replace(\" ?\", \"?\")\n",
        "        return normalized_text\n",
        "    else:\n",
        "        return text\n",
        "\n",
        "data['Preprocessed Comment'] = data['Preprocessed Comment'].apply(lambda x: normalize_slangs_abbreviations_custom(x, abbreviations))"
      ]
    },
    {
      "cell_type": "markdown",
      "metadata": {
        "id": "AyQTsu_zYHGN"
      },
      "source": [
        "function for wsd:"
      ]
    },
    {
      "cell_type": "code",
      "execution_count": 3,
      "metadata": {
        "id": "Y7wFH_P1iNsU"
      },
      "outputs": [],
      "source": [
        "stop_words = set(stopwords.words('english'))\n",
        "\n",
        "def word_sense_disambiguation(sentence):\n",
        "    #sentence = expand_contractions(sentence, contractions_dict)\n",
        "    sentence = sentence.lower()\n",
        "    tokens = word_tokenize(sentence)\n",
        "    tokens = [word for word in tokens if word.lower() not in stop_words]\n",
        "    disambiguated_tokens = []\n",
        "\n",
        "    for token in tokens:\n",
        "    #     if len(token)==1:\n",
        "    #         continue\n",
        "    #     synsets = wn.synsets(token)\n",
        "    #     if synsets and isinstance(synsets[0], str) and '_' in synsets[0]:\n",
        "    #         del synsets[0]\n",
        "    #     #print(token,synsets)\n",
        "    #     if synsets:\n",
        "    #         best_synset = max(synsets, key=lambda syn: wn.path_similarity(syn, synsets[0]))\n",
        "    #         disambiguated_word = best_synset.lemmas()[0].name()\n",
        "    #         disambiguated_tokens.append(disambiguated_word)\n",
        "    #     else:\n",
        "    #         disambiguated_tokens.append(token)\n",
        "          disambiguated_tokens.append(token)\n",
        "\n",
        "    return ' '.join(disambiguated_tokens)"
      ]
    },
    {
      "cell_type": "code",
      "execution_count": 4,
      "metadata": {
        "colab": {
          "base_uri": "https://localhost:8080/",
          "height": 35
        },
        "id": "FAlK2KEWiNsU",
        "outputId": "e44f2143-a5bb-40d9-c572-fae569318e43"
      },
      "outputs": [
        {
          "data": {
            "application/vnd.google.colaboratory.intrinsic+json": {
              "type": "string"
            },
            "text/plain": [
              "'good turned waste clothes something reusable'"
            ]
          },
          "execution_count": 4,
          "metadata": {},
          "output_type": "execute_result"
        }
      ],
      "source": [
        "word_sense_disambiguation(\"its so good that you turned waste clothes into something reusable\")"
      ]
    },
    {
      "cell_type": "code",
      "execution_count": 5,
      "metadata": {
        "colab": {
          "base_uri": "https://localhost:8080/"
        },
        "id": "DjrCazD2iNsU",
        "outputId": "32fa906d-c8de-49e7-87b0-48bf5b9ea778"
      },
      "outputs": [
        {
          "data": {
            "text/plain": [
              "Subjectivity\n",
              "1.0    1560\n",
              "0.0    1123\n",
              "Name: count, dtype: int64"
            ]
          },
          "execution_count": 5,
          "metadata": {},
          "output_type": "execute_result"
        }
      ],
      "source": [
        "data['Subjectivity'].value_counts()"
      ]
    },
    {
      "cell_type": "code",
      "execution_count": 6,
      "metadata": {
        "colab": {
          "base_uri": "https://localhost:8080/"
        },
        "id": "myh_QTICiNsU",
        "outputId": "2ea0efe6-ffeb-450b-93d7-d55c305ba23d"
      },
      "outputs": [
        {
          "name": "stdout",
          "output_type": "stream",
          "text": [
            "--2024-04-08 18:51:08--  http://downloads.cs.stanford.edu/nlp/data/glove.6B.zip\n",
            "Resolving downloads.cs.stanford.edu (downloads.cs.stanford.edu)... 171.64.64.22\n",
            "Connecting to downloads.cs.stanford.edu (downloads.cs.stanford.edu)|171.64.64.22|:80... connected.\n",
            "HTTP request sent, awaiting response... 200 OK\n",
            "Length: 862182613 (822M) [application/zip]\n",
            "Saving to: ‘glove.6B.zip’\n",
            "\n",
            "glove.6B.zip        100%[===================>] 822.24M  5.14MB/s    in 2m 40s  \n",
            "\n",
            "2024-04-08 18:53:48 (5.14 MB/s) - ‘glove.6B.zip’ saved [862182613/862182613]\n",
            "\n"
          ]
        }
      ],
      "source": [
        "!wget http://downloads.cs.stanford.edu/nlp/data/glove.6B.zip"
      ]
    },
    {
      "cell_type": "code",
      "execution_count": 7,
      "metadata": {
        "colab": {
          "base_uri": "https://localhost:8080/"
        },
        "id": "viwh6Oq5iNsV",
        "outputId": "ccb77130-4789-4a09-8387-75d1c9e1b472"
      },
      "outputs": [
        {
          "name": "stdout",
          "output_type": "stream",
          "text": [
            "Archive:  glove.6B.zip\n",
            "  inflating: glove.6B.50d.txt        \n",
            "  inflating: glove.6B.100d.txt       \n",
            "  inflating: glove.6B.200d.txt       \n",
            "  inflating: glove.6B.300d.txt       \n"
          ]
        }
      ],
      "source": [
        "!unzip glove.6B.zip"
      ]
    },
    {
      "cell_type": "code",
      "execution_count": 6,
      "metadata": {
        "id": "YgsQ1SFriNsV"
      },
      "outputs": [],
      "source": [
        "words = dict()\n",
        "\n",
        "def add_to_dict(d, filename):\n",
        "  with open(filename, 'r') as f:\n",
        "    for line in f.readlines():\n",
        "      line = line.split(' ')\n",
        "\n",
        "      try:\n",
        "        d[line[0]] = np.array(line[1:], dtype=float)\n",
        "      except:\n",
        "        continue\n",
        "\n",
        "add_to_dict(words, 'glove.6B.50d.txt')\n",
        "#words"
      ]
    },
    {
      "cell_type": "code",
      "execution_count": 9,
      "metadata": {
        "colab": {
          "base_uri": "https://localhost:8080/"
        },
        "id": "Icp-osi_iNsV",
        "outputId": "54325d7d-143b-4814-d6b3-3a59b6b039dc"
      },
      "outputs": [
        {
          "data": {
            "text/plain": [
              "['user', 'when', 'a', 'father', 'is', 'dysfunctional', 'and', 'is']"
            ]
          },
          "execution_count": 9,
          "metadata": {},
          "output_type": "execute_result"
        }
      ],
      "source": [
        "tokenizer = nltk.RegexpTokenizer(r\"\\w+\")"
      ]
    },
    {
      "cell_type": "code",
      "execution_count": 10,
      "metadata": {
        "colab": {
          "base_uri": "https://localhost:8080/"
        },
        "id": "7YeWLykxiNsV",
        "outputId": "e98a65ef-ab31-461a-c5bd-8504ca4131aa"
      },
      "outputs": [
        {
          "data": {
            "text/plain": [
              "['user', 'foot', 'a', 'father', 'is', 'dysfunctional', 'and', 'is']"
            ]
          },
          "execution_count": 10,
          "metadata": {},
          "output_type": "execute_result"
        }
      ],
      "source": [
        "lemmatizer = WordNetLemmatizer()\n",
        "\n",
        "def message_to_token_list(s):\n",
        "  tokens = tokenizer.tokenize(s)\n",
        "  lowercased_tokens = [t.lower() for t in tokens]\n",
        "  lemmatized_tokens = [lemmatizer.lemmatize(t) for t in lowercased_tokens]\n",
        "  useful_tokens = [t for t in lemmatized_tokens if t in words]\n",
        "\n",
        "  return useful_tokens"
      ]
    },
    {
      "cell_type": "code",
      "execution_count": 11,
      "metadata": {
        "id": "e0IDlp3FiNsV"
      },
      "outputs": [],
      "source": [
        "def message_to_word_vectors(message, word_dict=words):\n",
        "  processed_list_of_tokens = message_to_token_list(message)\n",
        "\n",
        "  vectors = []\n",
        "\n",
        "  for token in processed_list_of_tokens:\n",
        "    if token not in word_dict:\n",
        "      continue\n",
        "\n",
        "    token_vector = word_dict[token]\n",
        "    vectors.append(token_vector)\n",
        "\n",
        "  return np.array(vectors, dtype=float)"
      ]
    },
    {
      "cell_type": "code",
      "execution_count": 13,
      "metadata": {
        "colab": {
          "base_uri": "https://localhost:8080/"
        },
        "id": "Xk8lg9VviNsV",
        "outputId": "df1891cc-c8d5-45c9-8f69-cd2f27db09de"
      },
      "outputs": [
        {
          "data": {
            "text/plain": [
              "(1878, 402, 403)"
            ]
          },
          "execution_count": 13,
          "metadata": {},
          "output_type": "execute_result"
        }
      ],
      "source": [
        "train_df = data.sample(frac=1, random_state=1)\n",
        "train_df.reset_index(drop=True, inplace=True)\n",
        "\n",
        "split_index_1 = int(len(train_df) * 0.7)\n",
        "split_index_2 = int(len(train_df) * 0.85)\n",
        "\n",
        "train_df, val_df, test_df = train_df[:split_index_1], train_df[split_index_1:split_index_2], train_df[split_index_2:]\n",
        "\n",
        "len(train_df), len(val_df), len(test_df)"
      ]
    },
    {
      "cell_type": "code",
      "execution_count": 14,
      "metadata": {
        "colab": {
          "base_uri": "https://localhost:8080/"
        },
        "id": "6MzZKLo_xHBm",
        "outputId": "4b5abe4d-5a0e-459e-b084-70357b21590e"
      },
      "outputs": [
        {
          "data": {
            "text/plain": [
              "Subjectivity\n",
              "1.0    1087\n",
              "0.0     791\n",
              "Name: count, dtype: int64"
            ]
          },
          "execution_count": 14,
          "metadata": {},
          "output_type": "execute_result"
        }
      ],
      "source": [
        "train_df['Subjectivity'].value_counts()"
      ]
    },
    {
      "cell_type": "markdown",
      "metadata": {
        "id": "3zqKVRQiYYlU"
      },
      "source": [
        "balancing out train data:"
      ]
    },
    {
      "cell_type": "code",
      "execution_count": 15,
      "metadata": {
        "colab": {
          "base_uri": "https://localhost:8080/"
        },
        "id": "hRO3p8Gjyj5C",
        "outputId": "c7905de2-5efe-4425-9bfb-69a2e0f34ee8"
      },
      "outputs": [
        {
          "data": {
            "text/plain": [
              "Subjectivity\n",
              "0.0    1087\n",
              "1.0    1087\n",
              "Name: count, dtype: int64"
            ]
          },
          "execution_count": 15,
          "metadata": {},
          "output_type": "execute_result"
        }
      ],
      "source": [
        "X_train = train_df.drop(columns=['Subjectivity'])\n",
        "y_train = train_df['Subjectivity']\n",
        "oversampler = RandomOverSampler(random_state=42)\n",
        "X_train_upsampled, y_train_upsampled = oversampler.fit_resample(X_train, y_train)\n",
        "train_df = pd.concat([X_train_upsampled, y_train_upsampled], axis=1)\n",
        "train_df = train_df.sample(frac=1, random_state=42).reset_index(drop=True)\n",
        "train_df['Subjectivity'].value_counts()"
      ]
    },
    {
      "cell_type": "code",
      "execution_count": 16,
      "metadata": {
        "id": "UuCiFWA1iNsV"
      },
      "outputs": [],
      "source": [
        "def df_to_X_y(dff):\n",
        "  y = dff['Subjectivity'].to_numpy().astype(int)\n",
        "\n",
        "  all_word_vector_sequences = []\n",
        "\n",
        "  for message in dff['Comment']:\n",
        "    message_as_vector_seq = message_to_word_vectors(str(message))\n",
        "\n",
        "    if message_as_vector_seq.shape[0] == 0:\n",
        "      message_as_vector_seq = np.zeros(shape=(1, 50))\n",
        "\n",
        "    all_word_vector_sequences.append(message_as_vector_seq)\n",
        "\n",
        "  return all_word_vector_sequences, y"
      ]
    },
    {
      "cell_type": "code",
      "execution_count": 17,
      "metadata": {
        "colab": {
          "base_uri": "https://localhost:8080/"
        },
        "id": "iMaoZnFsiNsV",
        "outputId": "64f506d0-86ac-4866-9ede-68de39de4299"
      },
      "outputs": [
        {
          "name": "stdout",
          "output_type": "stream",
          "text": [
            "2174 19\n"
          ]
        }
      ],
      "source": [
        "X_train, y_train = df_to_X_y(train_df)\n",
        "print(len(X_train), len(X_train[0]))"
      ]
    },
    {
      "cell_type": "code",
      "execution_count": 18,
      "metadata": {
        "colab": {
          "base_uri": "https://localhost:8080/"
        },
        "id": "l1RNTILuiNsW",
        "outputId": "f6ff3ac3-1a53-4b14-c8af-e04c71086917"
      },
      "outputs": [
        {
          "name": "stdout",
          "output_type": "stream",
          "text": [
            "2174 1\n"
          ]
        }
      ],
      "source": [
        "print(len(X_train), len(X_train[2]))"
      ]
    },
    {
      "cell_type": "code",
      "execution_count": 19,
      "metadata": {
        "colab": {
          "base_uri": "https://localhost:8080/",
          "height": 534
        },
        "id": "4_d1SMbOiNsW",
        "outputId": "e194ebd2-fd06-47c9-e702-c5f4696a4144"
      },
      "outputs": [
        {
          "data": {
            "text/plain": [
              "(array([1.998e+03, 8.100e+01, 4.100e+01, 2.500e+01, 7.000e+00, 9.000e+00,\n",
              "        4.000e+00, 3.000e+00, 5.000e+00, 1.000e+00]),\n",
              " array([1.0000e+00, 5.7150e+02, 1.1420e+03, 1.7125e+03, 2.2830e+03,\n",
              "        2.8535e+03, 3.4240e+03, 3.9945e+03, 4.5650e+03, 5.1355e+03,\n",
              "        5.7060e+03]),\n",
              " <BarContainer object of 10 artists>)"
            ]
          },
          "execution_count": 19,
          "metadata": {},
          "output_type": "execute_result"
        },
        {
          "data": {
            "image/png": "[encoded data removed]",
            "text/plain": [
              "<Figure size 640x480 with 1 Axes>"
            ]
          },
          "metadata": {},
          "output_type": "display_data"
        }
      ],
      "source": [
        "sequence_lengths = []\n",
        "\n",
        "for i in range(len(X_train)):\n",
        "  sequence_lengths.append(len(X_train[i]))\n",
        "\n",
        "import matplotlib.pyplot as plt\n",
        "\n",
        "plt.hist(sequence_lengths)"
      ]
    },
    {
      "cell_type": "code",
      "execution_count": 20,
      "metadata": {
        "colab": {
          "base_uri": "https://localhost:8080/"
        },
        "id": "9KoRzlkHiNsW",
        "outputId": "17dc3b43-d6f2-44a0-d3d4-4a832c1eb52d"
      },
      "outputs": [
        {
          "data": {
            "text/plain": [
              "count    2174.000000\n",
              "mean      182.814627\n",
              "std       514.717545\n",
              "min         1.000000\n",
              "25%        16.000000\n",
              "50%        31.500000\n",
              "75%        60.000000\n",
              "max      5706.000000\n",
              "dtype: float64"
            ]
          },
          "execution_count": 20,
          "metadata": {},
          "output_type": "execute_result"
        }
      ],
      "source": [
        "pd.Series(sequence_lengths).describe()"
      ]
    },
    {
      "cell_type": "code",
      "execution_count": 21,
      "metadata": {
        "id": "R6b-UnDeiNsW"
      },
      "outputs": [],
      "source": [
        "from copy import deepcopy\n",
        "\n",
        "def pad_X(X, desired_sequence_length=5710):\n",
        "  X_copy = deepcopy(X)\n",
        "\n",
        "  for i, x in enumerate(X):\n",
        "    x_seq_len = x.shape[0]\n",
        "    sequence_length_difference = desired_sequence_length - x_seq_len\n",
        "\n",
        "    pad = np.zeros(shape=(sequence_length_difference, 50))\n",
        "\n",
        "    X_copy[i] = np.concatenate([x, pad])\n",
        "\n",
        "  return np.array(X_copy).astype(float)"
      ]
    },
    {
      "cell_type": "code",
      "execution_count": 22,
      "metadata": {
        "colab": {
          "base_uri": "https://localhost:8080/"
        },
        "id": "6mKX7EHFiNsW",
        "outputId": "26796a7a-3042-4406-8ca2-0336a436bc96"
      },
      "outputs": [
        {
          "data": {
            "text/plain": [
              "(2174, 5710, 50)"
            ]
          },
          "execution_count": 22,
          "metadata": {},
          "output_type": "execute_result"
        }
      ],
      "source": [
        "X_train = pad_X(X_train)\n",
        "\n",
        "X_train.shape"
      ]
    },
    {
      "cell_type": "code",
      "execution_count": 23,
      "metadata": {
        "colab": {
          "base_uri": "https://localhost:8080/"
        },
        "id": "wxZHPdioiNsW",
        "outputId": "1c54689a-8e7c-443c-ea3d-42a04b780450"
      },
      "outputs": [
        {
          "data": {
            "text/plain": [
              "(2174,)"
            ]
          },
          "execution_count": 23,
          "metadata": {},
          "output_type": "execute_result"
        }
      ],
      "source": [
        "y_train.shape"
      ]
    },
    {
      "cell_type": "code",
      "execution_count": 24,
      "metadata": {
        "colab": {
          "base_uri": "https://localhost:8080/"
        },
        "id": "JSUgWp1kiNsW",
        "outputId": "d9698f7f-c88f-4b5a-8bc3-68d7b50d58d5"
      },
      "outputs": [
        {
          "data": {
            "text/plain": [
              "((402, 5710, 50), (402,))"
            ]
          },
          "execution_count": 24,
          "metadata": {},
          "output_type": "execute_result"
        }
      ],
      "source": [
        "X_val, y_val = df_to_X_y(val_df)\n",
        "X_val = pad_X(X_val)\n",
        "\n",
        "X_val.shape, y_val.shape"
      ]
    },
    {
      "cell_type": "code",
      "execution_count": 25,
      "metadata": {
        "colab": {
          "base_uri": "https://localhost:8080/"
        },
        "id": "xLDovaTeiNsW",
        "outputId": "d8882bf7-82aa-41a7-8dcb-07e254d530e2"
      },
      "outputs": [
        {
          "data": {
            "text/plain": [
              "((403, 5710, 50), (403,))"
            ]
          },
          "execution_count": 25,
          "metadata": {},
          "output_type": "execute_result"
        }
      ],
      "source": [
        "X_test, y_test = df_to_X_y(test_df)\n",
        "X_test = pad_X(X_test)\n",
        "\n",
        "X_test.shape, y_test.shape"
      ]
    },
    {
      "cell_type": "markdown",
      "metadata": {
        "id": "M5elILrVYjl_"
      },
      "source": [
        "# LSTM Model"
      ]
    },
    {
      "cell_type": "code",
      "execution_count": 26,
      "metadata": {
        "id": "SN5N7reHiNsW"
      },
      "outputs": [],
      "source": [
        "model = Sequential([])\n",
        "\n",
        "model.add(layers.Input(shape=(5710, 50)))\n",
        "model.add(layers.LSTM(64, return_sequences=True))\n",
        "model.add(layers.Dropout(0.2))\n",
        "model.add(layers.LSTM(64, return_sequences=True))\n",
        "model.add(layers.Dropout(0.2))\n",
        "model.add(layers.LSTM(64, return_sequences=True))\n",
        "model.add(layers.Dropout(0.2))\n",
        "model.add(layers.Flatten())\n",
        "model.add(layers.Dense(1, activation='sigmoid'))"
      ]
    },
    {
      "cell_type": "code",
      "execution_count": 27,
      "metadata": {
        "colab": {
          "base_uri": "https://localhost:8080/"
        },
        "id": "DTVbZmctiNsW",
        "outputId": "bda21565-00ae-46c1-e1f0-472e51e14a02"
      },
      "outputs": [
        {
          "name": "stdout",
          "output_type": "stream",
          "text": [
            "Model: \"sequential\"\n",
            "_________________________________________________________________\n",
            " Layer (type)                Output Shape              Param #   \n",
            "=================================================================\n",
            " lstm (LSTM)                 (None, 5710, 64)          29440     \n",
            "                                                                 \n",
            " dropout (Dropout)           (None, 5710, 64)          0         \n",
            "                                                                 \n",
            " lstm_1 (LSTM)               (None, 5710, 64)          33024     \n",
            "                                                                 \n",
            " dropout_1 (Dropout)         (None, 5710, 64)          0         \n",
            "                                                                 \n",
            " lstm_2 (LSTM)               (None, 5710, 64)          33024     \n",
            "                                                                 \n",
            " dropout_2 (Dropout)         (None, 5710, 64)          0         \n",
            "                                                                 \n",
            " flatten (Flatten)           (None, 365440)            0         \n",
            "                                                                 \n",
            " dense (Dense)               (None, 1)                 365441    \n",
            "                                                                 \n",
            "=================================================================\n",
            "Total params: 460929 (1.76 MB)\n",
            "Trainable params: 460929 (1.76 MB)\n",
            "Non-trainable params: 0 (0.00 Byte)\n",
            "_________________________________________________________________\n"
          ]
        }
      ],
      "source": [
        "model.summary()"
      ]
    },
    {
      "cell_type": "code",
      "execution_count": 28,
      "metadata": {
        "id": "nGXb-9s6iNsW"
      },
      "outputs": [],
      "source": [
        "fcp = ModelCheckpoint('model/', save_best_only=True)\n",
        "\n",
        "model.compile(optimizer=Adam(learning_rate=0.0001),\n",
        "              loss=BinaryCrossentropy(),\n",
        "              metrics=['accuracy', AUC(name='auc')])"
      ]
    },
    {
      "cell_type": "code",
      "execution_count": 31,
      "metadata": {
        "colab": {
          "base_uri": "https://localhost:8080/"
        },
        "id": "RWjk96VGiNsW",
        "outputId": "28456099-4da6-4df1-f6bc-3cf14aa9380a"
      },
      "outputs": [
        {
          "data": {
            "text/plain": [
              "Subjectivity\n",
              "0.0    1087\n",
              "1.0    1087\n",
              "Name: count, dtype: int64"
            ]
          },
          "execution_count": 31,
          "metadata": {},
          "output_type": "execute_result"
        }
      ],
      "source": [
        "frequencies = pd.value_counts(train_df['Subjectivity'])\n",
        "\n",
        "frequencies"
      ]
    },
    {
      "cell_type": "code",
      "execution_count": 73,
      "metadata": {
        "id": "gWGw3ZXPuC8g"
      },
      "outputs": [],
      "source": [
        "early_stopping = EarlyStopping(monitor='val_loss', patience=5)"
      ]
    },
    {
      "cell_type": "code",
      "execution_count": 34,
      "metadata": {
        "colab": {
          "base_uri": "https://localhost:8080/"
        },
        "id": "3XcWe-7viNsW",
        "outputId": "0fde8c29-f8f9-4dc0-fe2a-ad71cb9fc3f2"
      },
      "outputs": [
        {
          "name": "stdout",
          "output_type": "stream",
          "text": [
            "Epoch 1/20\n",
            "68/68 [==============================] - 53s 665ms/step - loss: 1.3599 - accuracy: 0.5690 - auc: 0.5973 - val_loss: 0.6910 - val_accuracy: 0.6070 - val_auc: 0.6514\n",
            "Epoch 2/20\n",
            "68/68 [==============================] - 42s 622ms/step - loss: 1.3207 - accuracy: 0.6017 - auc: 0.6679 - val_loss: 0.6686 - val_accuracy: 0.6791 - val_auc: 0.7139\n",
            "Epoch 3/20\n",
            "68/68 [==============================] - 43s 633ms/step - loss: 1.2581 - accuracy: 0.6605 - auc: 0.7109 - val_loss: 0.6107 - val_accuracy: 0.6990 - val_auc: 0.7519\n",
            "Epoch 4/20\n",
            "68/68 [==============================] - 34s 501ms/step - loss: 1.2084 - accuracy: 0.6918 - auc: 0.7430 - val_loss: 0.6209 - val_accuracy: 0.6965 - val_auc: 0.7515\n",
            "Epoch 5/20\n",
            "68/68 [==============================] - 43s 628ms/step - loss: 1.1747 - accuracy: 0.7075 - auc: 0.7630 - val_loss: 0.5941 - val_accuracy: 0.7214 - val_auc: 0.7542\n",
            "Epoch 6/20\n",
            "68/68 [==============================] - 34s 501ms/step - loss: 1.1550 - accuracy: 0.6987 - auc: 0.7682 - val_loss: 0.6060 - val_accuracy: 0.7313 - val_auc: 0.7459\n",
            "Epoch 7/20\n",
            "68/68 [==============================] - 34s 499ms/step - loss: 1.1288 - accuracy: 0.7199 - auc: 0.7844 - val_loss: 0.5959 - val_accuracy: 0.7090 - val_auc: 0.7527\n",
            "Epoch 8/20\n",
            "68/68 [==============================] - 34s 500ms/step - loss: 1.1063 - accuracy: 0.7236 - auc: 0.7963 - val_loss: 0.6150 - val_accuracy: 0.6990 - val_auc: 0.7446\n",
            "Epoch 9/20\n",
            "68/68 [==============================] - 34s 501ms/step - loss: 1.0974 - accuracy: 0.7323 - auc: 0.7971 - val_loss: 0.5975 - val_accuracy: 0.7164 - val_auc: 0.7523\n",
            "Epoch 10/20\n",
            "68/68 [==============================] - 34s 496ms/step - loss: 1.0714 - accuracy: 0.7355 - auc: 0.8055 - val_loss: 0.6119 - val_accuracy: 0.7040 - val_auc: 0.7452\n"
          ]
        },
        {
          "data": {
            "text/plain": [
              "<keras.src.callbacks.History at 0x7aea1b2d6710>"
            ]
          },
          "execution_count": 34,
          "metadata": {},
          "output_type": "execute_result"
        }
      ],
      "source": [
        "model.fit(X_train, y_train, validation_data=(X_val, y_val), epochs=20, callbacks=[cp,early_stopping])"
      ]
    },
    {
      "cell_type": "code",
      "execution_count": 37,
      "metadata": {
        "id": "JBg3w6iliNsW"
      },
      "outputs": [],
      "source": [
        "best_model = load_model('model/')"
      ]
    },
    {
      "cell_type": "code",
      "execution_count": 38,
      "metadata": {
        "colab": {
          "base_uri": "https://localhost:8080/"
        },
        "id": "OgXOvyU5iNsW",
        "outputId": "30981d0d-f2b1-4a52-b50c-90d4e6494d61"
      },
      "outputs": [
        {
          "name": "stdout",
          "output_type": "stream",
          "text": [
            "13/13 [==============================] - 5s 218ms/step\n",
            "              precision    recall  f1-score   support\n",
            "\n",
            "           0       0.61      0.54      0.58       166\n",
            "           1       0.70      0.76      0.73       237\n",
            "\n",
            "    accuracy                           0.67       403\n",
            "   macro avg       0.66      0.65      0.65       403\n",
            "weighted avg       0.67      0.67      0.67       403\n",
            "\n"
          ]
        }
      ],
      "source": [
        "test_predictions = (best_model.predict(X_test) > 0.5).astype(int)\n",
        "\n",
        "print(classification_report(y_test, test_predictions))"
      ]
    },
    {
      "cell_type": "markdown",
      "metadata": {
        "id": "eMC2sK6yYqav"
      },
      "source": [
        "## With wsd:"
      ]
    },
    {
      "cell_type": "code",
      "execution_count": 46,
      "metadata": {
        "id": "kFOOKdziiNsW"
      },
      "outputs": [],
      "source": [
        "def new_df_to_X_y(dff):\n",
        "  y = dff['Subjectivity'].to_numpy().astype(int)\n",
        "\n",
        "  all_word_vector_sequences = []\n",
        "\n",
        "  for message in dff['Comment']:\n",
        "    message_as_vector_seq = word_sense_disambiguation(str(message))\n",
        "    message_as_vector_seq = message_to_word_vectors(str(message_as_vector_seq))\n",
        "    if message_as_vector_seq.shape[0] == 0:\n",
        "      message_as_vector_seq = np.zeros(shape=(1, 50))\n",
        "\n",
        "    all_word_vector_sequences.append(message_as_vector_seq)\n",
        "\n",
        "  return all_word_vector_sequences, y"
      ]
    },
    {
      "cell_type": "code",
      "execution_count": 47,
      "metadata": {
        "colab": {
          "base_uri": "https://localhost:8080/"
        },
        "id": "CU8puATROBgz",
        "outputId": "8fd59b8a-394b-4a7b-89bf-7249955a4442"
      },
      "outputs": [
        {
          "data": {
            "text/plain": [
              "(1878, 402, 403)"
            ]
          },
          "execution_count": 47,
          "metadata": {},
          "output_type": "execute_result"
        }
      ],
      "source": [
        "train_df = data.sample(frac=1, random_state=1)\n",
        "train_df.reset_index(drop=True, inplace=True)\n",
        "\n",
        "split_index_1 = int(len(train_df) * 0.7)\n",
        "split_index_2 = int(len(train_df) * 0.85)\n",
        "\n",
        "train_df, val_df, test_df = train_df[:split_index_1], train_df[split_index_1:split_index_2], train_df[split_index_2:]\n",
        "\n",
        "len(train_df), len(val_df), len(test_df)"
      ]
    },
    {
      "cell_type": "markdown",
      "metadata": {
        "id": "9tl44KuZOBhA"
      },
      "source": [
        "balancing out train data:"
      ]
    },
    {
      "cell_type": "code",
      "execution_count": 48,
      "metadata": {
        "colab": {
          "base_uri": "https://localhost:8080/"
        },
        "id": "-aPsc24ROBhA",
        "outputId": "ca4fbe3f-3454-479c-e5ff-e48ee6d6bee5"
      },
      "outputs": [
        {
          "data": {
            "text/plain": [
              "Subjectivity\n",
              "0.0    1087\n",
              "1.0    1087\n",
              "Name: count, dtype: int64"
            ]
          },
          "execution_count": 48,
          "metadata": {},
          "output_type": "execute_result"
        }
      ],
      "source": [
        "X_train = train_df.drop(columns=['Subjectivity'])\n",
        "y_train = train_df['Subjectivity']\n",
        "oversampler = RandomOverSampler(random_state=42)\n",
        "X_train_upsampled, y_train_upsampled = oversampler.fit_resample(X_train, y_train)\n",
        "train_df = pd.concat([X_train_upsampled, y_train_upsampled], axis=1)\n",
        "train_df = train_df.sample(frac=1, random_state=42).reset_index(drop=True)\n",
        "train_df['Subjectivity'].value_counts()"
      ]
    },
    {
      "cell_type": "code",
      "execution_count": 49,
      "metadata": {
        "id": "IXLqgnMMiNsW"
      },
      "outputs": [],
      "source": [
        "X_train, y_train = new_df_to_X_y(train_df)\n",
        "X_train = pad_X(X_train)\n",
        "X_val, y_val = new_df_to_X_y(val_df)\n",
        "X_val = pad_X(X_val)\n",
        "X_test, y_test = new_df_to_X_y(test_df)\n",
        "X_test = pad_X(X_test)"
      ]
    },
    {
      "cell_type": "code",
      "execution_count": 70,
      "metadata": {
        "id": "hs_fOiqX7lIJ"
      },
      "outputs": [],
      "source": [
        "model1 = Sequential([])\n",
        "\n",
        "model1.add(layers.Input(shape=(5710, 50)))\n",
        "model1.add(layers.LSTM(64, return_sequences=True))\n",
        "model1.add(layers.Dropout(0.2))\n",
        "model1.add(layers.LSTM(64, return_sequences=True))\n",
        "model1.add(layers.Dropout(0.2))\n",
        "model1.add(layers.LSTM(64, return_sequences=True))\n",
        "model1.add(layers.Dropout(0.2))\n",
        "model1.add(layers.Flatten())\n",
        "model1.add(layers.Dense(1, activation='sigmoid'))"
      ]
    },
    {
      "cell_type": "code",
      "execution_count": 71,
      "metadata": {
        "id": "2dcbsPQ97lIW"
      },
      "outputs": [],
      "source": [
        "cp = ModelCheckpoint('model1/', save_best_only=True)\n",
        "\n",
        "model1.compile(optimizer=Adam(learning_rate=0.0001),\n",
        "              loss=BinaryCrossentropy(),\n",
        "              metrics=['accuracy', AUC(name='auc')])"
      ]
    },
    {
      "cell_type": "code",
      "execution_count": 74,
      "metadata": {
        "id": "feEVY2ra7lIW"
      },
      "outputs": [],
      "source": [
        "early_stopping = EarlyStopping(monitor='val_loss', patience=5)"
      ]
    },
    {
      "cell_type": "code",
      "execution_count": 75,
      "metadata": {
        "colab": {
          "base_uri": "https://localhost:8080/"
        },
        "id": "MzAoYTic7lIW",
        "outputId": "6918fc8e-582b-40d7-892e-55c66fd6d29d"
      },
      "outputs": [
        {
          "name": "stdout",
          "output_type": "stream",
          "text": [
            "Epoch 1/20\n",
            "68/68 [==============================] - 49s 658ms/step - loss: 0.6821 - accuracy: 0.5773 - auc: 0.6137 - val_loss: 0.6737 - val_accuracy: 0.6194 - val_auc: 0.7010\n",
            "Epoch 2/20\n",
            "68/68 [==============================] - 42s 620ms/step - loss: 0.6474 - accuracy: 0.6357 - auc: 0.6863 - val_loss: 0.6290 - val_accuracy: 0.7164 - val_auc: 0.7630\n",
            "Epoch 3/20\n",
            "68/68 [==============================] - 45s 662ms/step - loss: 0.6115 - accuracy: 0.6872 - auc: 0.7327 - val_loss: 0.6005 - val_accuracy: 0.7114 - val_auc: 0.7645\n",
            "Epoch 4/20\n",
            "68/68 [==============================] - 42s 621ms/step - loss: 0.5925 - accuracy: 0.6960 - auc: 0.7531 - val_loss: 0.5781 - val_accuracy: 0.7289 - val_auc: 0.7710\n",
            "Epoch 5/20\n",
            "68/68 [==============================] - 34s 498ms/step - loss: 0.5801 - accuracy: 0.7033 - auc: 0.7663 - val_loss: 0.5958 - val_accuracy: 0.7040 - val_auc: 0.7679\n",
            "Epoch 6/20\n",
            "68/68 [==============================] - 34s 498ms/step - loss: 0.5696 - accuracy: 0.7079 - auc: 0.7745 - val_loss: 0.6040 - val_accuracy: 0.6990 - val_auc: 0.7672\n",
            "Epoch 7/20\n",
            "68/68 [==============================] - 34s 498ms/step - loss: 0.5637 - accuracy: 0.7098 - auc: 0.7802 - val_loss: 0.5931 - val_accuracy: 0.7189 - val_auc: 0.7652\n",
            "Epoch 8/20\n",
            "68/68 [==============================] - 42s 619ms/step - loss: 0.5628 - accuracy: 0.7134 - auc: 0.7823 - val_loss: 0.5665 - val_accuracy: 0.7363 - val_auc: 0.7764\n",
            "Epoch 9/20\n",
            "68/68 [==============================] - 34s 500ms/step - loss: 0.5560 - accuracy: 0.7102 - auc: 0.7884 - val_loss: 0.5683 - val_accuracy: 0.7313 - val_auc: 0.7760\n",
            "Epoch 10/20\n",
            "68/68 [==============================] - 34s 497ms/step - loss: 0.5407 - accuracy: 0.7208 - auc: 0.7995 - val_loss: 0.6109 - val_accuracy: 0.7139 - val_auc: 0.7722\n",
            "Epoch 11/20\n",
            "68/68 [==============================] - 34s 499ms/step - loss: 0.5397 - accuracy: 0.7277 - auc: 0.8021 - val_loss: 0.5739 - val_accuracy: 0.7413 - val_auc: 0.7791\n",
            "Epoch 12/20\n",
            "68/68 [==============================] - 34s 499ms/step - loss: 0.5295 - accuracy: 0.7309 - auc: 0.8077 - val_loss: 0.5869 - val_accuracy: 0.7164 - val_auc: 0.7837\n",
            "Epoch 13/20\n",
            "68/68 [==============================] - 34s 499ms/step - loss: 0.5237 - accuracy: 0.7355 - auc: 0.8164 - val_loss: 0.5802 - val_accuracy: 0.7289 - val_auc: 0.7796\n"
          ]
        },
        {
          "data": {
            "text/plain": [
              "<keras.src.callbacks.History at 0x7b12311430a0>"
            ]
          },
          "execution_count": 75,
          "metadata": {},
          "output_type": "execute_result"
        }
      ],
      "source": [
        "model1.fit(X_train, y_train, validation_data=(X_val, y_val), epochs=20, callbacks=[cp,early_stopping])"
      ]
    },
    {
      "cell_type": "code",
      "execution_count": 77,
      "metadata": {
        "id": "3qLErcWo8S32"
      },
      "outputs": [],
      "source": [
        "best_model1 = load_model('model1/')"
      ]
    },
    {
      "cell_type": "code",
      "execution_count": 78,
      "metadata": {
        "colab": {
          "base_uri": "https://localhost:8080/"
        },
        "id": "NDowKdXF8S33",
        "outputId": "286a6bcd-67fa-4e25-ee93-294708a87e82"
      },
      "outputs": [
        {
          "name": "stdout",
          "output_type": "stream",
          "text": [
            "13/13 [==============================] - 4s 223ms/step\n",
            "              precision    recall  f1-score   support\n",
            "\n",
            "           0       0.65      0.48      0.55       166\n",
            "           1       0.69      0.82      0.75       237\n",
            "\n",
            "    accuracy                           0.68       403\n",
            "   macro avg       0.67      0.65      0.65       403\n",
            "weighted avg       0.67      0.68      0.67       403\n",
            "\n"
          ]
        }
      ],
      "source": [
        "test_predictions = (best_model1.predict(X_test) > 0.5).astype(int)\n",
        "print(classification_report(y_test, test_predictions))"
      ]
    },
    {
      "cell_type": "markdown",
      "metadata": {
        "id": "dc_zWsygGjfN"
      },
      "source": [
        "# Keras Tuner (without wsd)"
      ]
    },
    {
      "cell_type": "code",
      "execution_count": 50,
      "metadata": {
        "id": "P144kfEgrkTx"
      },
      "outputs": [],
      "source": [
        "def model_builder(hp):\n",
        "  model1 = Sequential([])\n",
        "\n",
        "  model1.add(layers.Input(shape=(5710, 50)))\n",
        "  model1.add(layers.LSTM(hp.Int('layer_1', min_value=16, max_value=256, step=32), return_sequences=True))\n",
        "  model1.add(layers.Dropout(hp.Float('dropout_rate_1', min_value=0.0, max_value=0.5, step=0.1)))\n",
        "  model1.add(layers.LSTM(hp.Int('layer_2', min_value=16, max_value=256, step=32), return_sequences=True))\n",
        "  model1.add(layers.Dropout(hp.Float('dropout_rate_2', min_value=0.0, max_value=0.5, step=0.1)))\n",
        "  model1.add(layers.LSTM(hp.Int('layer_3', min_value=16, max_value=256, step=32), return_sequences=True))\n",
        "  model1.add(layers.Dropout(hp.Float('dropout_rate_3', min_value=0.0, max_value=0.5, step=0.1)))\n",
        "  model1.add(layers.Flatten())\n",
        "  model1.add(layers.Dense(1, activation='sigmoid'))\n",
        "\n",
        "  model1.compile(optimizer=tf.keras.optimizers.SGD(learning_rate=hp.Choice('learning_rate', values=[1e-2, 1e-3, 1e-4])),\n",
        "                loss=BinaryCrossentropy(),\n",
        "                metrics=['accuracy', AUC(name='auc')])\n",
        "\n",
        "  return model1"
      ]
    },
    {
      "cell_type": "code",
      "execution_count": 53,
      "metadata": {
        "id": "-ndVUCc3If1v"
      },
      "outputs": [],
      "source": [
        "tuner = kt.Hyperband(model_builder,\n",
        "                     objective='val_accuracy',\n",
        "                     max_epochs=10,\n",
        "                     factor=3,\n",
        "                     directory='dir',\n",
        "                     project_name='x',\n",
        "                     )"
      ]
    },
    {
      "cell_type": "code",
      "execution_count": 54,
      "metadata": {
        "id": "6CS6fPIRK1ue"
      },
      "outputs": [],
      "source": [
        "# import shutil\n",
        "# shutil.rmtree('/content/new_dir')"
      ]
    },
    {
      "cell_type": "code",
      "execution_count": 55,
      "metadata": {
        "id": "QnhoQhE-If4C"
      },
      "outputs": [],
      "source": [
        "stop_early = tf.keras.callbacks.EarlyStopping(monitor='val_loss', patience=5)"
      ]
    },
    {
      "cell_type": "code",
      "execution_count": 56,
      "metadata": {
        "colab": {
          "base_uri": "https://localhost:8080/"
        },
        "id": "KydvqC8mIf8H",
        "outputId": "a929852b-f3ae-49c0-bb81-14886740a393"
      },
      "outputs": [
        {
          "name": "stdout",
          "output_type": "stream",
          "text": [
            "Trial 30 Complete [00h 05m 59s]\n",
            "val_accuracy: 0.7338308691978455\n",
            "\n",
            "Best val_accuracy So Far: 0.7338308691978455\n",
            "Total elapsed time: 01h 24m 46s\n"
          ]
        }
      ],
      "source": [
        "tuner.search(X_train, y_train, epochs=50, validation_data=(X_val, y_val), callbacks=[stop_early])"
      ]
    },
    {
      "cell_type": "code",
      "execution_count": 57,
      "metadata": {
        "id": "810Z1axCIf-z"
      },
      "outputs": [],
      "source": [
        "best_hps = tuner.get_best_hyperparameters(num_trials=1)[0]"
      ]
    },
    {
      "cell_type": "code",
      "execution_count": 58,
      "metadata": {
        "colab": {
          "base_uri": "https://localhost:8080/"
        },
        "id": "7j-LJdAAIgBJ",
        "outputId": "782b6623-b0e6-46ee-cea7-4921b124f5d6"
      },
      "outputs": [
        {
          "name": "stdout",
          "output_type": "stream",
          "text": [
            "Epoch 1/50\n",
            "68/68 [==============================] - 41s 539ms/step - loss: 0.6905 - accuracy: 0.5603 - auc: 0.5785 - val_loss: 0.6917 - val_accuracy: 0.5398 - val_auc: 0.5841\n",
            "Epoch 2/50\n",
            "68/68 [==============================] - 34s 504ms/step - loss: 0.6845 - accuracy: 0.5787 - auc: 0.5960 - val_loss: 0.6860 - val_accuracy: 0.6318 - val_auc: 0.5826\n",
            "Epoch 3/50\n",
            "68/68 [==============================] - 34s 504ms/step - loss: 0.6783 - accuracy: 0.5837 - auc: 0.6051 - val_loss: 0.6863 - val_accuracy: 0.6244 - val_auc: 0.5779\n",
            "Epoch 4/50\n",
            "68/68 [==============================] - 34s 506ms/step - loss: 0.6735 - accuracy: 0.6003 - auc: 0.6153 - val_loss: 0.6746 - val_accuracy: 0.6194 - val_auc: 0.5923\n",
            "Epoch 5/50\n",
            "68/68 [==============================] - 34s 503ms/step - loss: 0.6687 - accuracy: 0.5943 - auc: 0.6173 - val_loss: 0.6810 - val_accuracy: 0.6244 - val_auc: 0.5963\n",
            "Epoch 6/50\n",
            "68/68 [==============================] - 34s 507ms/step - loss: 0.6651 - accuracy: 0.5911 - auc: 0.6342 - val_loss: 0.6806 - val_accuracy: 0.6219 - val_auc: 0.6092\n",
            "Epoch 7/50\n",
            "68/68 [==============================] - 34s 508ms/step - loss: 0.6609 - accuracy: 0.6063 - auc: 0.6454 - val_loss: 0.6757 - val_accuracy: 0.6244 - val_auc: 0.6376\n",
            "Epoch 8/50\n",
            "68/68 [==============================] - 34s 506ms/step - loss: 0.6573 - accuracy: 0.6072 - auc: 0.6643 - val_loss: 0.6709 - val_accuracy: 0.6194 - val_auc: 0.6530\n",
            "Epoch 9/50\n",
            "68/68 [==============================] - 34s 507ms/step - loss: 0.6500 - accuracy: 0.6201 - auc: 0.6844 - val_loss: 0.6819 - val_accuracy: 0.6169 - val_auc: 0.6626\n",
            "Epoch 10/50\n",
            "68/68 [==============================] - 34s 507ms/step - loss: 0.6458 - accuracy: 0.6293 - auc: 0.6851 - val_loss: 0.6487 - val_accuracy: 0.6567 - val_auc: 0.7085\n",
            "Epoch 11/50\n",
            "68/68 [==============================] - 34s 504ms/step - loss: 0.6403 - accuracy: 0.6435 - auc: 0.7007 - val_loss: 0.6540 - val_accuracy: 0.6642 - val_auc: 0.7144\n",
            "Epoch 12/50\n",
            "68/68 [==============================] - 34s 507ms/step - loss: 0.6320 - accuracy: 0.6504 - auc: 0.7162 - val_loss: 0.6243 - val_accuracy: 0.6841 - val_auc: 0.7390\n",
            "Epoch 13/50\n",
            "68/68 [==============================] - 34s 502ms/step - loss: 0.6235 - accuracy: 0.6638 - auc: 0.7242 - val_loss: 0.6268 - val_accuracy: 0.7040 - val_auc: 0.7445\n",
            "Epoch 14/50\n",
            "68/68 [==============================] - 34s 505ms/step - loss: 0.6189 - accuracy: 0.6615 - auc: 0.7276 - val_loss: 0.6191 - val_accuracy: 0.6990 - val_auc: 0.7513\n",
            "Epoch 15/50\n",
            "68/68 [==============================] - 34s 502ms/step - loss: 0.6092 - accuracy: 0.6743 - auc: 0.7397 - val_loss: 0.6012 - val_accuracy: 0.7090 - val_auc: 0.7600\n",
            "Epoch 16/50\n",
            "68/68 [==============================] - 34s 505ms/step - loss: 0.6054 - accuracy: 0.6776 - auc: 0.7425 - val_loss: 0.5748 - val_accuracy: 0.7289 - val_auc: 0.7752\n",
            "Epoch 17/50\n",
            "68/68 [==============================] - 34s 506ms/step - loss: 0.6021 - accuracy: 0.6845 - auc: 0.7418 - val_loss: 0.5904 - val_accuracy: 0.7090 - val_auc: 0.7701\n",
            "Epoch 18/50\n",
            "68/68 [==============================] - 35s 509ms/step - loss: 0.5989 - accuracy: 0.6785 - auc: 0.7451 - val_loss: 0.6128 - val_accuracy: 0.7164 - val_auc: 0.7603\n",
            "Epoch 19/50\n",
            "68/68 [==============================] - 34s 507ms/step - loss: 0.5953 - accuracy: 0.6918 - auc: 0.7495 - val_loss: 0.5852 - val_accuracy: 0.6940 - val_auc: 0.7715\n",
            "Epoch 20/50\n",
            "68/68 [==============================] - 34s 507ms/step - loss: 0.5925 - accuracy: 0.6969 - auc: 0.7518 - val_loss: 0.5844 - val_accuracy: 0.7139 - val_auc: 0.7681\n",
            "Epoch 21/50\n",
            "68/68 [==============================] - 34s 506ms/step - loss: 0.5903 - accuracy: 0.7010 - auc: 0.7560 - val_loss: 0.5868 - val_accuracy: 0.7164 - val_auc: 0.7710\n"
          ]
        }
      ],
      "source": [
        "best_model = tuner.hypermodel.build(best_hps)\n",
        "history = best_model.fit(X_train, y_train, epochs=50, validation_data=(X_val, y_val),\n",
        "                    callbacks=[stop_early])"
      ]
    },
    {
      "cell_type": "code",
      "execution_count": 59,
      "metadata": {
        "colab": {
          "base_uri": "https://localhost:8080/"
        },
        "id": "jjgLgajDI_r8",
        "outputId": "c4e89b9a-915c-4d72-eed2-cabbbcccca76"
      },
      "outputs": [
        {
          "data": {
            "text/plain": [
              "{'loss': [0.6904698610305786,\n",
              "  0.684536874294281,\n",
              "  0.6783027648925781,\n",
              "  0.6734702587127686,\n",
              "  0.6687051057815552,\n",
              "  0.6650797128677368,\n",
              "  0.660874605178833,\n",
              "  0.6573325395584106,\n",
              "  0.6500028371810913,\n",
              "  0.6457573175430298,\n",
              "  0.6402540802955627,\n",
              "  0.631996214389801,\n",
              "  0.623492956161499,\n",
              "  0.6189131140708923,\n",
              "  0.6091862916946411,\n",
              "  0.6053826808929443,\n",
              "  0.6020963191986084,\n",
              "  0.5988948345184326,\n",
              "  0.5953424572944641,\n",
              "  0.5924694538116455,\n",
              "  0.5902703404426575],\n",
              " 'accuracy': [0.560257613658905,\n",
              "  0.5786568522453308,\n",
              "  0.583716630935669,\n",
              "  0.600275993347168,\n",
              "  0.5942962169647217,\n",
              "  0.5910763740539551,\n",
              "  0.6062557697296143,\n",
              "  0.6071757078170776,\n",
              "  0.6200551986694336,\n",
              "  0.6292548179626465,\n",
              "  0.6435142755508423,\n",
              "  0.650413990020752,\n",
              "  0.6637534499168396,\n",
              "  0.6614535450935364,\n",
              "  0.6743330359458923,\n",
              "  0.6775528788566589,\n",
              "  0.6844525933265686,\n",
              "  0.6784728765487671,\n",
              "  0.6918123364448547,\n",
              "  0.6968721151351929,\n",
              "  0.7010119557380676],\n",
              " 'auc': [0.5784639120101929,\n",
              "  0.5960112810134888,\n",
              "  0.6050971150398254,\n",
              "  0.6152771711349487,\n",
              "  0.6173465251922607,\n",
              "  0.6341813802719116,\n",
              "  0.6453893184661865,\n",
              "  0.6642705202102661,\n",
              "  0.6844449639320374,\n",
              "  0.6850776076316833,\n",
              "  0.7007369995117188,\n",
              "  0.7161561846733093,\n",
              "  0.7242281436920166,\n",
              "  0.7275965809822083,\n",
              "  0.7396868467330933,\n",
              "  0.7425397634506226,\n",
              "  0.7418052554130554,\n",
              "  0.7451498508453369,\n",
              "  0.7494809627532959,\n",
              "  0.7518189549446106,\n",
              "  0.7559990286827087],\n",
              " 'val_loss': [0.6917406320571899,\n",
              "  0.6859511733055115,\n",
              "  0.68629390001297,\n",
              "  0.6745760440826416,\n",
              "  0.6810160279273987,\n",
              "  0.6806014180183411,\n",
              "  0.6756525039672852,\n",
              "  0.6709133386611938,\n",
              "  0.6819016933441162,\n",
              "  0.6486732363700867,\n",
              "  0.6540083289146423,\n",
              "  0.6242851614952087,\n",
              "  0.6268339157104492,\n",
              "  0.6191003918647766,\n",
              "  0.6012281179428101,\n",
              "  0.5747954249382019,\n",
              "  0.5904381275177002,\n",
              "  0.6127690672874451,\n",
              "  0.5852135419845581,\n",
              "  0.5844430923461914,\n",
              "  0.5867608785629272],\n",
              " 'val_accuracy': [0.5398010015487671,\n",
              "  0.6318408250808716,\n",
              "  0.6243780851364136,\n",
              "  0.6194030046463013,\n",
              "  0.6243780851364136,\n",
              "  0.6218905448913574,\n",
              "  0.6243780851364136,\n",
              "  0.6194030046463013,\n",
              "  0.6169154047966003,\n",
              "  0.6567164063453674,\n",
              "  0.6641790866851807,\n",
              "  0.6840795874595642,\n",
              "  0.7039800882339478,\n",
              "  0.6990049481391907,\n",
              "  0.7089552283287048,\n",
              "  0.7288557291030884,\n",
              "  0.7089552283287048,\n",
              "  0.7164179086685181,\n",
              "  0.6940298676490784,\n",
              "  0.7139303684234619,\n",
              "  0.7164179086685181],\n",
              " 'val_auc': [0.5840693712234497,\n",
              "  0.5826143622398376,\n",
              "  0.5778920650482178,\n",
              "  0.5923141241073608,\n",
              "  0.5963345170021057,\n",
              "  0.6091612577438354,\n",
              "  0.6376481056213379,\n",
              "  0.6530018448829651,\n",
              "  0.6625995635986328,\n",
              "  0.7084693908691406,\n",
              "  0.7143532037734985,\n",
              "  0.7390111088752747,\n",
              "  0.7444992065429688,\n",
              "  0.7513401508331299,\n",
              "  0.760044515132904,\n",
              "  0.7752068042755127,\n",
              "  0.7700760960578918,\n",
              "  0.7602869272232056,\n",
              "  0.7715309858322144,\n",
              "  0.7681105732917786,\n",
              "  0.771045982837677]}"
            ]
          },
          "execution_count": 59,
          "metadata": {},
          "output_type": "execute_result"
        }
      ],
      "source": [
        "history.history"
      ]
    },
    {
      "cell_type": "code",
      "execution_count": 68,
      "metadata": {
        "colab": {
          "base_uri": "https://localhost:8080/"
        },
        "id": "7ADW0QX1Q7la",
        "outputId": "02abd2fc-0442-40bc-9fc5-38467ed9d052"
      },
      "outputs": [
        {
          "name": "stdout",
          "output_type": "stream",
          "text": [
            "13/13 [==============================] - 3s 239ms/step\n",
            "              precision    recall  f1-score   support\n",
            "\n",
            "           0       0.58      0.63      0.61       166\n",
            "           1       0.73      0.68      0.70       237\n",
            "\n",
            "    accuracy                           0.66       403\n",
            "   macro avg       0.65      0.66      0.65       403\n",
            "weighted avg       0.67      0.66      0.66       403\n",
            "\n"
          ]
        }
      ],
      "source": [
        "test_predictions = (best_model.predict(X_test) > 0.5).astype(int)\n",
        "print(classification_report(y_test, test_predictions))"
      ]
    },
    {
      "cell_type": "code",
      "execution_count": 69,
      "metadata": {
        "colab": {
          "base_uri": "https://localhost:8080/"
        },
        "id": "d3n4wTClI_uZ",
        "outputId": "4e86cb52-26dd-4064-97f2-cc47d6b887cb"
      },
      "outputs": [
        {
          "name": "stderr",
          "output_type": "stream",
          "text": [
            "/usr/local/lib/python3.10/dist-packages/keras/src/engine/training.py:3103: UserWarning: You are saving your model as an HDF5 file via `model.save()`. This file format is considered legacy. We recommend using instead the native Keras format, e.g. `model.save('my_model.keras')`.\n",
            "  saving_api.save_model(\n"
          ]
        }
      ],
      "source": [
        "best_model.save('LSTM_best_model.h5')"
      ]
    },
    {
      "cell_type": "code",
      "execution_count": null,
      "metadata": {
        "id": "mHPAqig0I_6g"
      },
      "outputs": [],
      "source": []
    }
  ],
  "metadata": {
    "accelerator": "GPU",
    "colab": {
      "gpuType": "V100",
      "machine_shape": "hm",
      "provenance": []
    },
    "kernelspec": {
      "display_name": "Python 3",
      "name": "python3"
    },
    "language_info": {
      "codemirror_mode": {
        "name": "ipython",
        "version": 3
      },
      "file_extension": ".py",
      "mimetype": "text/x-python",
      "name": "python",
      "nbconvert_exporter": "python",
      "pygments_lexer": "ipython3",
      "version": "3.11.0"
    }
  },
  "nbformat": 4,
  "nbformat_minor": 0
}
